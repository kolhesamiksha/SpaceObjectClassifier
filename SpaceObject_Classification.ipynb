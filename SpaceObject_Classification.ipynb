{
  "nbformat": 4,
  "nbformat_minor": 0,
  "metadata": {
    "colab": {
      "name": "SpaceObject_Classification.ipynb",
      "provenance": [],
      "collapsed_sections": []
    },
    "kernelspec": {
      "display_name": "Python 3",
      "name": "python3"
    },
    "accelerator": "GPU"
  },
  "cells": [
    {
      "cell_type": "markdown",
      "metadata": {
        "id": "iXes19gadrqp"
      },
      "source": [
        "## <font color='Magenta'> **SpaceObject Classification Model**\n",
        "\n"
      ]
    },
    {
      "cell_type": "markdown",
      "metadata": {
        "id": "X6piO0o4eja2"
      },
      "source": [
        "bing-image Downloader it's a package to download images from bing"
      ]
    },
    {
      "cell_type": "code",
      "metadata": {
        "id": "0uLMAPUBdLNX",
        "colab": {
          "base_uri": "https://localhost:8080/"
        },
        "outputId": "bc2296d0-d1fd-43f7-a274-bd64c032ed89"
      },
      "source": [
        "!pip install bing-image-downloader"
      ],
      "execution_count": null,
      "outputs": [
        {
          "output_type": "stream",
          "name": "stdout",
          "text": [
            "Collecting bing-image-downloader\n",
            "  Downloading bing_image_downloader-1.1.1-py3-none-any.whl (5.7 kB)\n",
            "Installing collected packages: bing-image-downloader\n",
            "Successfully installed bing-image-downloader-1.1.1\n"
          ]
        }
      ]
    },
    {
      "cell_type": "markdown",
      "metadata": {
        "id": "f3QrDgxefXdI"
      },
      "source": [
        "for creating folder/dataset of images"
      ]
    },
    {
      "cell_type": "code",
      "metadata": {
        "id": "7SOUxIKFTszV"
      },
      "source": [
        "!mkdir images"
      ],
      "execution_count": null,
      "outputs": []
    },
    {
      "cell_type": "code",
      "metadata": {
        "id": "Rah79tusTxjt"
      },
      "source": [
        "from bing_image_downloader import downloader"
      ],
      "execution_count": null,
      "outputs": []
    },
    {
      "cell_type": "markdown",
      "metadata": {
        "id": "Pvd21xmKffx9"
      },
      "source": [
        "To Download images--->I have downloaded 50 images of each category"
      ]
    },
    {
      "cell_type": "code",
      "metadata": {
        "id": "6_46CBr4T5gi",
        "colab": {
          "base_uri": "https://localhost:8080/"
        },
        "outputId": "65783fec-6642-42ea-a62f-2e371545501b"
      },
      "source": [
        "downloader.download(\"Pulsar stars in space images\",limit = 100,output_dir= 'images',adult_filter_off = True)"
      ],
      "execution_count": null,
      "outputs": [
        {
          "output_type": "stream",
          "name": "stdout",
          "text": [
            "[%] Downloading Images to /content/images/Pulsar stars in space images\n",
            "\n",
            "\n",
            "[!!]Indexing page: 1\n",
            "\n",
            "[%] Indexed 103 Images on Page 1.\n",
            "\n",
            "===============================================\n",
            "\n",
            "[%] Downloading Image #1 from http://img.huffingtonpost.com/asset/2000_1000/58aece08290000f616f2842c.jpeg\n",
            "[Error]Invalid image, not saving http://img.huffingtonpost.com/asset/2000_1000/58aece08290000f616f2842c.jpeg\n",
            "\n",
            "[!] Issue getting: http://img.huffingtonpost.com/asset/2000_1000/58aece08290000f616f2842c.jpeg\n",
            "[!] Error:: Invalid image, not saving http://img.huffingtonpost.com/asset/2000_1000/58aece08290000f616f2842c.jpeg\n",
            "\n",
            "[%] Downloading Image #1 from https://media.wired.com/photos/5a593a7ff11e325008172bc2/master/w_2400,c_limit/pulsar-831502910.jpg\n",
            "[%] File Downloaded !\n",
            "\n",
            "[%] Downloading Image #2 from https://i.pinimg.com/originals/f0/a5/31/f0a53181b479b4160736eb460888959f.jpg\n",
            "[%] File Downloaded !\n",
            "\n",
            "[%] Downloading Image #3 from https://images.alphacoders.com/510/510805.jpg\n",
            "[%] File Downloaded !\n",
            "\n",
            "[%] Downloading Image #4 from https://i.pinimg.com/originals/cf/8a/7b/cf8a7bb22fe11bbb26224fc2210a53ba.jpg\n",
            "[%] File Downloaded !\n",
            "\n",
            "[%] Downloading Image #5 from https://i.ytimg.com/vi/pBx-dtzNzGE/maxresdefault.jpg\n",
            "[%] File Downloaded !\n",
            "\n",
            "[%] Downloading Image #6 from http://www.nasa.gov/sites/default/files/thumbnails/image/14-270.jpg\n",
            "[%] File Downloaded !\n",
            "\n",
            "[%] Downloading Image #7 from https://external-preview.redd.it/oukJzFOi8IejSuYWu_GnCF_odwnFf8i776z4ndR9hlc.jpg?auto=webp&amp;s=3e812364fb6179f01a08abfd838ce722eeb4facd\n",
            "[!] Issue getting: https://external-preview.redd.it/oukJzFOi8IejSuYWu_GnCF_odwnFf8i776z4ndR9hlc.jpg?auto=webp&amp;s=3e812364fb6179f01a08abfd838ce722eeb4facd\n",
            "[!] Error:: HTTP Error 403: Forbidden\n",
            "[%] Downloading Image #7 from https://i.pinimg.com/736x/3e/50/e5/3e50e57a15252c86649341502ed25899--neutron-star-beautiful-things.jpg\n",
            "[%] File Downloaded !\n",
            "\n",
            "[%] Downloading Image #8 from https://scx2.b-cdn.net/gfx/news/hires/2015/559527c417ca9.jpg\n",
            "[%] File Downloaded !\n",
            "\n",
            "[%] Downloading Image #9 from https://i.pinimg.com/originals/10/31/c4/1031c4523587309e48e6a248b76e0e45.jpg\n",
            "[%] File Downloaded !\n",
            "\n",
            "[%] Downloading Image #10 from https://i.pinimg.com/736x/7f/26/d3/7f26d32a0231fe28b7c265c737d305fd.jpg\n",
            "[%] File Downloaded !\n",
            "\n",
            "[%] Downloading Image #11 from https://3c1703fe8d.site.internapcdn.net/newman/gfx/news/hires/2017/nasacontinue.jpg\n",
            "[%] File Downloaded !\n",
            "\n",
            "[%] Downloading Image #12 from https://i.pinimg.com/originals/2b/3b/0a/2b3b0a6dc22008c5eabf5a041a412a6e.jpg\n",
            "[%] File Downloaded !\n",
            "\n",
            "[%] Downloading Image #13 from https://www.esa.int/var/esa/storage/images/esa_multimedia/images/2014/06/pulsar_encased_in_supernova_bubble/14560244-1-eng-GB/Pulsar_encased_in_supernova_bubble.jpg\n",
            "[%] File Downloaded !\n",
            "\n",
            "[%] Downloading Image #14 from https://www.sciencealert.com/images/2020-01/processed/pulsar-art_1024.jpg\n",
            "[%] File Downloaded !\n",
            "\n",
            "[%] Downloading Image #15 from https://cdn.mos.cms.futurecdn.net/tRW5iKsfjDY5mChX4VKyNM-1200-80.jpg\n",
            "[%] File Downloaded !\n",
            "\n",
            "[%] Downloading Image #16 from http://www.esa.int/var/esa/storage/images/esa_multimedia/images/2017/02/ngc_5907_x-1_record-breaking_pulsar/16821938-1-eng-GB/NGC_5907_X-1_record-breaking_pulsar.jpg\n",
            "[Error]Invalid image, not saving http://www.esa.int/var/esa/storage/images/esa_multimedia/images/2017/02/ngc_5907_x-1_record-breaking_pulsar/16821938-1-eng-GB/NGC_5907_X-1_record-breaking_pulsar.jpg\n",
            "\n",
            "[!] Issue getting: http://www.esa.int/var/esa/storage/images/esa_multimedia/images/2017/02/ngc_5907_x-1_record-breaking_pulsar/16821938-1-eng-GB/NGC_5907_X-1_record-breaking_pulsar.jpg\n",
            "[!] Error:: Invalid image, not saving http://www.esa.int/var/esa/storage/images/esa_multimedia/images/2017/02/ngc_5907_x-1_record-breaking_pulsar/16821938-1-eng-GB/NGC_5907_X-1_record-breaking_pulsar.jpg\n",
            "\n",
            "[%] Downloading Image #16 from https://i.dailymail.co.uk/1s/2018/10/22/12/5278642-0-image-a-3_1540207697590.jpg\n",
            "[%] File Downloaded !\n",
            "\n",
            "[%] Downloading Image #17 from http://astronomy.com/~/media/D586950A038D4BA38CCDC5D104D67FD3.jpg\n",
            "[%] File Downloaded !\n",
            "\n",
            "[%] Downloading Image #18 from https://i.pinimg.com/originals/82/65/b2/8265b2f9fd390dc9a71bd2c9e8bf9fa9.jpg\n",
            "[%] File Downloaded !\n",
            "\n",
            "[%] Downloading Image #19 from http://visioninconsciousness.org/Science  Topics Img/Pulsar 2.jpg\n",
            "[!] Issue getting: http://visioninconsciousness.org/Science  Topics Img/Pulsar 2.jpg\n",
            "[!] Error:: URL can't contain control characters. '/Science  Topics Img/Pulsar 2.jpg' (found at least ' ')\n",
            "[%] Downloading Image #19 from https://i0.hippopx.com/photos/181/733/303/pulsar-neutron-star-spinning-space-preview.jpg\n",
            "[%] File Downloaded !\n",
            "\n",
            "[%] Downloading Image #20 from https://i.pinimg.com/736x/25/b7/cd/25b7cd22dbf12a2243127e4aa85dd334.jpg\n",
            "[%] File Downloaded !\n",
            "\n",
            "[%] Downloading Image #21 from https://www.sciencekids.co.nz/images/pictures/space/neutronstar.jpg\n",
            "[%] File Downloaded !\n",
            "\n",
            "[%] Downloading Image #22 from http://spaceinfo.com.au/wp-content/uploads/2010/06/pulsar_575.jpg\n",
            "[%] File Downloaded !\n",
            "\n",
            "[%] Downloading Image #23 from https://3.bp.blogspot.com/-wozA0pkCHSs/VLZOPfXVSBI/AAAAAAAAEAs/NvyClFFcIhI/s640/dnews-files-2015-01-pulsar-670x440-150113-jpg.jpg\n",
            "[%] File Downloaded !\n",
            "\n",
            "[%] Downloading Image #24 from https://data1.ibtimes.co.in/en/full/651821/pulsar-neutron-star-polar-wind-nebula-space.jpg\n",
            "[%] File Downloaded !\n",
            "\n",
            "[%] Downloading Image #25 from http://astronomy.com/~/media/E23DD2FF21224B99B22DAF3DBF84862A.jpg\n",
            "[%] File Downloaded !\n",
            "\n",
            "[%] Downloading Image #26 from https://media.gettyimages.com/photos/pulsar-a-neutron-star-that-rotates-rapidly-on-itself-thereby-emitting-picture-id648917138\n",
            "[%] File Downloaded !\n",
            "\n",
            "[%] Downloading Image #27 from https://www.sciencealert.com/images/2018-05/processed/rotating-neutron-star_1024.jpg\n",
            "[%] File Downloaded !\n",
            "\n",
            "[%] Downloading Image #28 from https://s3.amazonaws.com/s3.timetoast.com/public/uploads/photos/4822666/crab3pul.jpg?1475219570\n",
            "[%] File Downloaded !\n",
            "\n",
            "[%] Downloading Image #29 from https://ae01.alicdn.com/kf/HTB1ADAbKpXXXXXlXpXXq6xXFXXX8/Pulsar-Stars-Universe-Hubble-Space-Art-Huge-Print-Poster-TXHOME-D2334.jpg\n",
            "[%] File Downloaded !\n",
            "\n",
            "[%] Downloading Image #30 from https://i.pinimg.com/originals/50/fa/5f/50fa5f4151d84aa2ec9a956befc9ca1a.jpg\n",
            "[%] File Downloaded !\n",
            "\n",
            "[%] Downloading Image #31 from https://i.pinimg.com/originals/c0/6e/dd/c06edd0aad0a8897afe93cdee06cfd94.jpg\n",
            "[%] File Downloaded !\n",
            "\n",
            "[%] Downloading Image #32 from https://www.universetoday.com/wp-content/uploads/2019/08/Vela-image.jpg\n",
            "[%] File Downloaded !\n",
            "\n",
            "[%] Downloading Image #33 from http://en.es-static.us/upl/2018/08/pulsar-3-1-dragged-800x450.jpg\n",
            "[%] File Downloaded !\n",
            "\n",
            "[%] Downloading Image #34 from https://www.spaceanswers.com/wp-content/uploads/2014/06/eso1319c.jpg\n",
            "[%] File Downloaded !\n",
            "\n",
            "[%] Downloading Image #35 from http://a.abcnews.com/images/Technology/GTY-vela-supernova-remnant-6-jt-170104_4x3_992.jpg\n",
            "[%] File Downloaded !\n",
            "\n",
            "[%] Downloading Image #36 from https://i.pinimg.com/originals/e0/57/a7/e057a77fddac5d05e702ec94734f4134.jpg\n",
            "[%] File Downloaded !\n",
            "\n",
            "[%] Downloading Image #37 from https://s-media-cache-ak0.pinimg.com/736x/c5/53/60/c55360873ec63c4b4aa255e2f36a2cd5.jpg\n",
            "[%] File Downloaded !\n",
            "\n",
            "[%] Downloading Image #38 from http://www.esa.int/var/esa/storage/images/esa_multimedia/images/2005/08/artist_s_impression_of_a_pulsar_eating_a_companion_star/9753657-3-eng-GB/Artist_s_impression_of_a_pulsar_eating_a_companion_star.jpg\n",
            "[%] File Downloaded !\n",
            "\n",
            "[%] Downloading Image #39 from http://www.nasa.gov/sites/default/files/thumbnails/image/rcw103_0.jpg\n",
            "[%] File Downloaded !\n",
            "\n",
            "[%] Downloading Image #40 from http://cdn.spacetelescope.org/archives/images/screen/opo1843b.jpg\n",
            "[%] File Downloaded !\n",
            "\n",
            "[%] Downloading Image #41 from https://i.pinimg.com/originals/5d/44/0b/5d440bd4d38f26f4d4575c6d44c15214.jpg\n",
            "[%] File Downloaded !\n",
            "\n",
            "[%] Downloading Image #42 from https://i.pinimg.com/originals/2d/b6/ff/2db6ff3735a4347c54b45717f22e4955.jpg\n",
            "[%] File Downloaded !\n",
            "\n",
            "[%] Downloading Image #43 from https://a57.foxnews.com/a57.foxnews.com/static.foxnews.com/foxnews.com/content/uploads/2019/03/640/320/1862/1048/speeding-pulsar-j002.jpg?ve=1&amp;tl=1?ve=1&amp;tl=1\n",
            "[%] File Downloaded !\n",
            "\n",
            "[%] Downloading Image #44 from https://i.pinimg.com/736x/58/6e/63/586e6301337f2db986b5043d25438f9f--the-wings-the-smalls.jpg\n",
            "[%] File Downloaded !\n",
            "\n",
            "[%] Downloading Image #45 from http://www.nasa.gov/sites/default/files/thumbnails/image/vela_lg.jpg\n",
            "[%] File Downloaded !\n",
            "\n",
            "[%] Downloading Image #46 from http://d1jqu7g1y74ds1.cloudfront.net/wp-content/uploads/2014/10/TimeLapse_ofCrabPulsarWind.gif\n",
            "[%] File Downloaded !\n",
            "\n",
            "[%] Downloading Image #47 from https://www.bing.com/th/id/OGC.d78df6edd7ed9d16f821ff486f7e8868?pid=1.7&amp;rurl=http%3a%2f%2fd1jqu7g1y74ds1.cloudfront.net%2fwp-content%2fuploads%2f2014%2f10%2fTimeLapse_ofCrabPulsarWind.gif&amp;ehk=YCgB56Y7iR7kP1xFmVstKjaJSWjJts5XBdxrGNbo%2bSM%3d\n",
            "[!] Issue getting: https://www.bing.com/th/id/OGC.d78df6edd7ed9d16f821ff486f7e8868?pid=1.7&amp;rurl=http%3a%2f%2fd1jqu7g1y74ds1.cloudfront.net%2fwp-content%2fuploads%2f2014%2f10%2fTimeLapse_ofCrabPulsarWind.gif&amp;ehk=YCgB56Y7iR7kP1xFmVstKjaJSWjJts5XBdxrGNbo%2bSM%3d\n",
            "[!] Error:: HTTP Error 404: Not Found\n",
            "[%] Downloading Image #47 from https://i.pinimg.com/originals/25/f0/60/25f060ef8e26c1012d3e137b97a5226d.jpg\n",
            "[%] File Downloaded !\n",
            "\n",
            "[%] Downloading Image #48 from http://www.nasa.gov/images/content/283511main_fermigrop_pulsarmodel_HI.jpg\n",
            "[%] File Downloaded !\n",
            "\n",
            "[%] Downloading Image #49 from https://akm-img-a-in.tosshub.com/indiatoday/images/story/201903/ctb1opticalrosenpulsar20032019.jpeg?PYye4f9PmUsv9Slu7RrZiSrwGtb37gzZ&amp;size=770:433\n",
            "[%] File Downloaded !\n",
            "\n",
            "[%] Downloading Image #50 from https://i.pinimg.com/originals/a9/52/5d/a9525db49185d0aaab7659b96812d19c.png\n",
            "[%] File Downloaded !\n",
            "\n",
            "[%] Downloading Image #51 from https://www.universetoday.com/wp-content/uploads/2014/10/tmp_30060-Artist-Illus-Accreting-Pulsar.jpg-2132068307.png\n",
            "[%] File Downloaded !\n",
            "\n",
            "[%] Downloading Image #52 from https://i.pinimg.com/736x/f2/81/fa/f281fa52cd8408e6445bd4919924ad75--eti-photographic-prints.jpg\n",
            "[%] File Downloaded !\n",
            "\n",
            "[%] Downloading Image #53 from https://asgardia.space/storage/page/publication/42/bc/42bcfaa36998fa24e337639a57961f3c0ae4c18a16f41ab1bed66cf623ea1136.jpg\n",
            "[%] File Downloaded !\n",
            "\n",
            "[%] Downloading Image #54 from http://cdn.sci-news.com/images/enlarge/image_1219_4e-exoplanet.jpg\n",
            "[%] File Downloaded !\n",
            "\n",
            "[%] Downloading Image #55 from https://i.dailymail.co.uk/i/pix/2012/05/17/article-2145889-044BA50F0000044D-795_634x412.jpg\n",
            "[Error]Invalid image, not saving https://i.dailymail.co.uk/i/pix/2012/05/17/article-2145889-044BA50F0000044D-795_634x412.jpg\n",
            "\n",
            "[!] Issue getting: https://i.dailymail.co.uk/i/pix/2012/05/17/article-2145889-044BA50F0000044D-795_634x412.jpg\n",
            "[!] Error:: Invalid image, not saving https://i.dailymail.co.uk/i/pix/2012/05/17/article-2145889-044BA50F0000044D-795_634x412.jpg\n",
            "\n",
            "[%] Downloading Image #55 from http://www.americaspace.com/wp-content/uploads/2015/04/la-einstein-relativity-20130426-001-500x284.jpg\n",
            "[%] File Downloaded !\n",
            "\n",
            "[%] Downloading Image #56 from https://i.pinimg.com/originals/dd/22/4c/dd224c5022cd6e11a3e98c5b93f5761a.png\n",
            "[%] File Downloaded !\n",
            "\n",
            "[%] Downloading Image #57 from https://i.pinimg.com/originals/3b/13/c0/3b13c09b78329bd02612fe9e61d7c838.jpg\n",
            "[%] File Downloaded !\n",
            "\n",
            "[%] Downloading Image #58 from http://aasnova.org/wp-content/uploads/2015/09/fig17-e1443626962683.jpg\n",
            "[%] File Downloaded !\n",
            "\n",
            "[%] Downloading Image #59 from https://regmedia.co.uk/2016/02/11/pulsar_image_via_shutterstock.jpg?x=1200&amp;y=794\n",
            "[%] File Downloaded !\n",
            "\n",
            "[%] Downloading Image #60 from http://www.mpifr-bonn.mpg.de/717005/Pulsars-1377672598.jpg\n",
            "[%] File Downloaded !\n",
            "\n",
            "[%] Downloading Image #61 from https://www.nrao.edu/pr/2012/aaaspulsars/pulsargraphic.jpg\n",
            "[%] File Downloaded !\n",
            "\n",
            "[%] Downloading Image #62 from https://3c1703fe8d.site.internapcdn.net/newman/gfx/news/hires/2015/whatisaneutr.jpg\n",
            "[%] File Downloaded !\n",
            "\n",
            "[%] Downloading Image #63 from https://i.pinimg.com/originals/83/88/4a/83884a04521e9b08ad1eb943ba0a8eb4.jpg\n",
            "[%] File Downloaded !\n",
            "\n",
            "[%] Downloading Image #64 from https://i.pinimg.com/originals/61/31/25/613125d26c995a9a5ca4671f8c59a09d.jpg\n",
            "[%] File Downloaded !\n",
            "\n",
            "[%] Downloading Image #65 from http://d.ibtimes.co.uk/en/full/170180/crab-pulsar.jpg\n",
            "[%] File Downloaded !\n",
            "\n",
            "[%] Downloading Image #66 from http://www.nasa.gov/centers/goddard/images/content/207358main_whitedwarf_20080102_HI1.jpg\n",
            "[%] File Downloaded !\n",
            "\n",
            "[%] Downloading Image #67 from https://www.australasianscience.com.au/sites/default/files/Hobbs-1.jpg\n",
            "[%] File Downloaded !\n",
            "\n",
            "[%] Downloading Image #68 from http://s1.ibtimes.com/sites/www.ibtimes.com/files/2017/01/19/pulsar.jpg\n",
            "[%] File Downloaded !\n",
            "\n",
            "[%] Downloading Image #69 from https://3c1703fe8d.site.internapcdn.net/newman/gfx/news/hires/2015/pulsarwithwi.jpg\n",
            "[%] File Downloaded !\n",
            "\n",
            "[%] Downloading Image #70 from http://cdn.sci-news.com/images/2012/10/image_638.jpg\n",
            "[%] File Downloaded !\n",
            "\n",
            "[%] Downloading Image #71 from http://www.nasa.gov/sites/default/files/images/570048main_psrj0357.jpg\n",
            "[%] File Downloaded !\n",
            "\n",
            "[%] Downloading Image #72 from https://1.bp.blogspot.com/-tcExCnOrpSI/W8Hu97Jd8JI/AAAAAAAA-mI/wmqJPlhQAEMquXktnPiG6X8xH1yPAiA-wCLcBGAs/w1200-h630-p-k-no-nu/Pulsar_Still_1.jpg\n",
            "[%] File Downloaded !\n",
            "\n",
            "[%] Downloading Image #73 from https://hypescience.com/wp-content/uploads/2018/01/pulsar.jpg\n",
            "[%] File Downloaded !\n",
            "\n",
            "[%] Downloading Image #74 from http://www.shockingscience.com/wp-content/uploads/sites/879/2015/06/dreamstime_xs_12885390.jpg\n",
            "[%] File Downloaded !\n",
            "\n",
            "[%] Downloading Image #75 from https://cdn.spacetelescope.org/archives/images/screen/opo9229a.jpg\n",
            "[%] File Downloaded !\n",
            "\n",
            "[%] Downloading Image #76 from https://c1.staticflickr.com/1/232/463242020_714d4c1d1a_b.jpg\n",
            "[%] File Downloaded !\n",
            "\n",
            "[%] Downloading Image #77 from http://www.nasa.gov/sites/default/files/pulsaraccretion.jpg\n",
            "[%] File Downloaded !\n",
            "\n",
            "[%] Downloading Image #78 from http://chandra.harvard.edu/photo/2012/igrj11014/igrj11014.jpg\n",
            "[%] File Downloaded !\n",
            "\n",
            "[%] Downloading Image #79 from https://i.pinimg.com/originals/38/35/e7/3835e7326481eaa01f7aee9fc296e6b5.jpg\n",
            "[%] File Downloaded !\n",
            "\n",
            "[%] Downloading Image #80 from https://i.pinimg.com/736x/d6/1a/17/d61a1749b9a3413ee3ef89fc29c9e6c3--eskimo-ipad-apps.jpg\n",
            "[%] File Downloaded !\n",
            "\n",
            "[%] Downloading Image #81 from https://i.pinimg.com/originals/c1/71/be/c171be7e039ab9bea3d6bf1d961bf49c.jpg\n",
            "[%] File Downloaded !\n",
            "\n",
            "[%] Downloading Image #82 from https://thumbs.dreamstime.com/z/dusty-dead-star-composite-image-nasa-s-chandra-spitzer-space-telescopes-shows-remains-collapsed-supernova-179879223.jpg\n",
            "[%] File Downloaded !\n",
            "\n",
            "[%] Downloading Image #83 from https://spaceflightnow.com/news/n0309/06pulsar/geminga.jpg\n",
            "[%] File Downloaded !\n",
            "\n",
            "[%] Downloading Image #84 from https://s-media-cache-ak0.pinimg.com/736x/f5/18/6e/f5186e4076580bb8b28da71f5b459ad2.jpg\n",
            "[%] File Downloaded !\n",
            "\n",
            "[%] Downloading Image #85 from https://spaceflightnow.com/news/n0101/11chandra/pulsar.jpg\n",
            "[%] File Downloaded !\n",
            "\n",
            "[%] Downloading Image #86 from http://spiff.rit.edu/classes/phys301/lectures/neutron_star/crab_with_box.gif\n",
            "[%] File Downloaded !\n",
            "\n",
            "[%] Downloading Image #87 from https://i.ytimg.com/vi/wIXPKUEwuGU/maxresdefault.jpg\n",
            "[%] File Downloaded !\n",
            "\n",
            "[%] Downloading Image #88 from http://cdn.sci-news.com/images/enlarge/image_1664_1e-PSRJ0337-1715.jpg\n",
            "[%] File Downloaded !\n",
            "\n",
            "[%] Downloading Image #89 from https://i.stack.imgur.com/43Px7.gif\n",
            "[%] File Downloaded !\n",
            "\n",
            "[%] Downloading Image #90 from https://i.pinimg.com/736x/21/44/6f/21446f2e8c08cf69d163010b8749379a.jpg\n",
            "[%] File Downloaded !\n",
            "\n",
            "[%] Downloading Image #91 from https://www.nasa.gov/images/content/474230main_Pulsar_Binary_Mod_1.jpg\n",
            "[%] File Downloaded !\n",
            "\n",
            "[%] Downloading Image #92 from http://en.es-static.us/upl/2012/03/PSR-Nav_3.jpeg\n",
            "[%] File Downloaded !\n",
            "\n",
            "[%] Downloading Image #93 from https://www.sciencealert.com/images/2018-09/pulsar-wind-nebula-inset.gif\n",
            "[%] File Downloaded !\n",
            "\n",
            "[%] Downloading Image #94 from https://www.bing.com/th/id/OGC.58815fff0510e9af0d0911a47fa9d1e9?pid=1.7&amp;rurl=https%3a%2f%2fwww.sciencealert.com%2fimages%2f2018-09%2fpulsar-wind-nebula-inset.gif&amp;ehk=iidFI%2fF%2fwMkju%2bmc3%2fNUEY%2bzEybpBdYZdcuXcUEZD%2bw%3d\n",
            "[!] Issue getting: https://www.bing.com/th/id/OGC.58815fff0510e9af0d0911a47fa9d1e9?pid=1.7&amp;rurl=https%3a%2f%2fwww.sciencealert.com%2fimages%2f2018-09%2fpulsar-wind-nebula-inset.gif&amp;ehk=iidFI%2fF%2fwMkju%2bmc3%2fNUEY%2bzEybpBdYZdcuXcUEZD%2bw%3d\n",
            "[!] Error:: HTTP Error 404: Not Found\n",
            "[%] Downloading Image #94 from https://i.pinimg.com/originals/10/a9/39/10a93912490e703c46a84322710fd71a.gif\n",
            "[%] File Downloaded !\n",
            "\n",
            "[%] Downloading Image #95 from https://www.bing.com/th/id/OGC.6b57cd027016fe4d74e7ee76c6de6180?pid=1.7&amp;rurl=https%3a%2f%2fi.pinimg.com%2foriginals%2f10%2fa9%2f39%2f10a93912490e703c46a84322710fd71a.gif&amp;ehk=IIf6HUGlYR9jC5x3QdwGp3pY90M0BxUKVGWf6QDE9zQ%3d\n",
            "[!] Issue getting: https://www.bing.com/th/id/OGC.6b57cd027016fe4d74e7ee76c6de6180?pid=1.7&amp;rurl=https%3a%2f%2fi.pinimg.com%2foriginals%2f10%2fa9%2f39%2f10a93912490e703c46a84322710fd71a.gif&amp;ehk=IIf6HUGlYR9jC5x3QdwGp3pY90M0BxUKVGWf6QDE9zQ%3d\n",
            "[!] Error:: HTTP Error 404: Not Found\n",
            "[%] Downloading Image #95 from https://www.spaceanswers.com/wp-content/uploads/2017/02/habbick-pulsar.jpg\n",
            "[%] File Downloaded !\n",
            "\n",
            "\n",
            "\n",
            "[!!]Indexing page: 2\n",
            "\n",
            "[%] Indexed 35 Images on Page 2.\n",
            "\n",
            "===============================================\n",
            "\n",
            "[%] Downloading Image #96 from https://i.pinimg.com/originals/f0/a5/31/f0a53181b479b4160736eb460888959f.jpg\n",
            "[%] File Downloaded !\n",
            "\n",
            "[%] Downloading Image #97 from http://img.huffingtonpost.com/asset/2000_1000/58aece08290000f616f2842c.jpeg\n",
            "[Error]Invalid image, not saving http://img.huffingtonpost.com/asset/2000_1000/58aece08290000f616f2842c.jpeg\n",
            "\n",
            "[!] Issue getting: http://img.huffingtonpost.com/asset/2000_1000/58aece08290000f616f2842c.jpeg\n",
            "[!] Error:: Invalid image, not saving http://img.huffingtonpost.com/asset/2000_1000/58aece08290000f616f2842c.jpeg\n",
            "\n",
            "[%] Downloading Image #97 from https://i.pinimg.com/originals/cf/8a/7b/cf8a7bb22fe11bbb26224fc2210a53ba.jpg\n",
            "[%] File Downloaded !\n",
            "\n",
            "[%] Downloading Image #98 from https://images.alphacoders.com/510/510805.jpg\n",
            "[%] File Downloaded !\n",
            "\n",
            "[%] Downloading Image #99 from https://media.wired.com/photos/5a593a7ff11e325008172bc2/master/w_2400,c_limit/pulsar-831502910.jpg\n",
            "[%] File Downloaded !\n",
            "\n",
            "[%] Downloading Image #100 from https://i.ytimg.com/vi/pBx-dtzNzGE/maxresdefault.jpg\n",
            "[%] File Downloaded !\n",
            "\n",
            "\n",
            "\n",
            "[%] Done. Downloaded 100 images.\n",
            "===============================================\n",
            "\n",
            "Please show your support here\n",
            "https://www.buymeacoffee.com/gurugaurav\n",
            "\n",
            "===============================================\n",
            "\n"
          ]
        }
      ]
    },
    {
      "cell_type": "code",
      "metadata": {
        "id": "69AbG9PGUDvi",
        "colab": {
          "base_uri": "https://localhost:8080/"
        },
        "outputId": "9dd40e74-6884-448c-936a-2fa8aca4fa06"
      },
      "source": [
        "downloader.download(\"black hole stars in space images\",limit = 100,output_dir= 'images',adult_filter_off = True)"
      ],
      "execution_count": null,
      "outputs": [
        {
          "output_type": "stream",
          "name": "stdout",
          "text": [
            "[%] Downloading Images to /content/images/black hole stars in space images\n",
            "\n",
            "\n",
            "[!!]Indexing page: 1\n",
            "\n",
            "[%] Indexed 100 Images on Page 1.\n",
            "\n",
            "===============================================\n",
            "\n",
            "[%] Downloading Image #1 from http://static1.businessinsider.com/image/597b68c0b50ab1011c8b523b-1352/black-hole-stars-galaxies-warped-space-nasa.jpg\n",
            "[%] File Downloaded !\n",
            "\n",
            "[%] Downloading Image #2 from https://images.wallpapersden.com/image/download/black-hole-space-stars_Z2ZmammUmZqaraWkpJRobWllrWdma2U.jpg\n",
            "[%] File Downloaded !\n",
            "\n",
            "[%] Downloading Image #3 from https://i.pinimg.com/originals/cb/40/45/cb4045eac6498934f19cbc886d06a5a1.jpg\n",
            "[%] File Downloaded !\n",
            "\n",
            "[%] Downloading Image #4 from http://s1.ibtimes.com/sites/www.ibtimes.com/files/styles/embed/public/2017/05/19/black-hole-eats.jpg\n",
            "[%] File Downloaded !\n",
            "\n",
            "[%] Downloading Image #5 from https://www.jpl.nasa.gov/spaceimages/images/largesize/PIA16605_hires.jpg\n",
            "[%] File Downloaded !\n",
            "\n",
            "[%] Downloading Image #6 from http://sum.cuny.edu/content/uploads/2019/12/BH.jpg\n",
            "[%] File Downloaded !\n",
            "\n",
            "[%] Downloading Image #7 from https://www.sott.net/image/s19/388302/full/gettyimages_525444153.jpg\n",
            "[%] File Downloaded !\n",
            "\n",
            "[%] Downloading Image #8 from https://i.pinimg.com/736x/31/7d/7d/317d7d8d0c4f01b4d2f93e4d398df32c.jpg\n",
            "[%] File Downloaded !\n",
            "\n",
            "[%] Downloading Image #9 from http://en.es-static.us/upl/2016/03/black-hole-large-megallanic-cloud.jpg\n",
            "[%] File Downloaded !\n",
            "\n",
            "[%] Downloading Image #10 from https://vl-media.fr/wp-content/uploads/2020/12/science-5350597_1920-1140x694.jpg\n",
            "[%] File Downloaded !\n",
            "\n",
            "[%] Downloading Image #11 from https://hdqwalls.com/wallpapers/star-black-hole-4k-fq.jpg\n",
            "[%] File Downloaded !\n",
            "\n",
            "[%] Downloading Image #12 from https://4kwallpapers.com/images/wallpapers/black-hole-astronaut-spiral-galaxy-stars-space-exploration-2048x2048-2482.jpg\n",
            "[!] Issue getting: https://4kwallpapers.com/images/wallpapers/black-hole-astronaut-spiral-galaxy-stars-space-exploration-2048x2048-2482.jpg\n",
            "[!] Error:: IncompleteRead(0 bytes read, 896983 more expected)\n",
            "[%] Downloading Image #12 from https://i.cbc.ca/1.2514470.1390940931!/fileImage/httpImage/image.jpg_gen/derivatives/original_780/hi-nasa-blackhole-852-jpg.jpg\n",
            "[%] File Downloaded !\n",
            "\n",
            "[%] Downloading Image #13 from https://public.nrao.edu/wp-content/uploads/2019/04/nrao19df04_3_V404-Cygni.jpg\n",
            "[Error]Invalid image, not saving https://public.nrao.edu/wp-content/uploads/2019/04/nrao19df04_3_V404-Cygni.jpg\n",
            "\n",
            "[!] Issue getting: https://public.nrao.edu/wp-content/uploads/2019/04/nrao19df04_3_V404-Cygni.jpg\n",
            "[!] Error:: Invalid image, not saving https://public.nrao.edu/wp-content/uploads/2019/04/nrao19df04_3_V404-Cygni.jpg\n",
            "\n",
            "[%] Downloading Image #13 from https://i.pinimg.com/originals/53/d0/d7/53d0d7b1307a10fc7efa95faed18add3.jpg\n",
            "[%] File Downloaded !\n",
            "\n",
            "[%] Downloading Image #14 from https://cdn.mos.cms.futurecdn.net/X7pABPiAR49GEwGfsnJqnc-1200-80.jpg\n",
            "[%] File Downloaded !\n",
            "\n",
            "[%] Downloading Image #15 from https://cdn.images.express.co.uk/img/dynamic/151/590x/Black-hole-news-ghost-galaxy-supermassive-black-hole-birth-1309237.jpg?r=1594716098941\n",
            "[%] File Downloaded !\n",
            "\n",
            "[%] Downloading Image #16 from https://i.pinimg.com/originals/87/23/b9/8723b956386185be574e903ffe573a46.jpg\n",
            "[%] File Downloaded !\n",
            "\n",
            "[%] Downloading Image #17 from https://www.esa.int/var/esa/storage/images/esa_multimedia/images/2003/04/a_black_hole_and_companion_star_with_supernova/10077882-2-eng-GB/A_black_hole_and_companion_star_with_supernova_pillars.jpg\n",
            "[%] File Downloaded !\n",
            "\n",
            "[%] Downloading Image #18 from https://inteng-storage.s3.amazonaws.com/img/iea/Xm6l2nEpOD/sizes/header-spaghetti-black-hole_md.jpg\n",
            "[%] File Downloaded !\n",
            "\n",
            "[%] Downloading Image #19 from https://i.pinimg.com/originals/6a/bb/58/6abb581abfb57e7317f9f4c4e9815ac6.jpg\n",
            "[%] File Downloaded !\n",
            "\n",
            "[%] Downloading Image #20 from https://daa2cpxieyuku.cloudfront.net/wp-content/uploads/2020/08/26134946/113.jpg\n",
            "[%] File Downloaded !\n",
            "\n",
            "[%] Downloading Image #21 from https://rejuvenatebeing.com/wp-content/uploads/2020/05/Black-Hole-research-confirms-Einsteins-theory-of-relativity.jpg\n",
            "[%] File Downloaded !\n",
            "\n",
            "[%] Downloading Image #22 from https://i.pinimg.com/originals/85/75/0d/85750dd6f2da62cc23238c72f07fd1c0.jpg\n",
            "[%] File Downloaded !\n",
            "\n",
            "[%] Downloading Image #23 from https://i2-prod.mirror.co.uk/incoming/article6688604.ece/ALTERNATES/s1168v/nasa-main.jpg\n",
            "[%] File Downloaded !\n",
            "\n",
            "[%] Downloading Image #24 from https://i1.wp.com/techsabado.com/wp-content/uploads/2019/03/black-hole-nasa.jpg?fit=800%2C545&amp;ssl=1\n",
            "[%] File Downloaded !\n",
            "\n",
            "[%] Downloading Image #25 from https://p0.pikist.com/photos/143/303/black-hole-space-cosmos-supermassive-stars-dust-universe-gas-enormous.jpg\n",
            "[%] File Downloaded !\n",
            "\n",
            "[%] Downloading Image #26 from https://scitechdaily.com/images/Mid-Sized-Black-Hole-Eating-Star-scaled.jpg\n",
            "[%] File Downloaded !\n",
            "\n",
            "[%] Downloading Image #27 from https://media.istockphoto.com/photos/black-hole-picture-id689551538?k=6&amp;m=689551538&amp;s=170667a&amp;w=0&amp;h=1hfsAuILsIrxgssNFI2hVCs2em-3Rt9fQjQ4x1tHTWM=\n",
            "[%] File Downloaded !\n",
            "\n",
            "[%] Downloading Image #28 from https://media5.newsnationtv.com/images/2019/12/31/blackhole-671.jpg\n",
            "[%] File Downloaded !\n",
            "\n",
            "[%] Downloading Image #29 from https://i.pinimg.com/originals/37/a2/c7/37a2c795cc2a84b7be01cff0e6748a23.jpg\n",
            "[%] File Downloaded !\n",
            "\n",
            "[%] Downloading Image #30 from https://www.jpl.nasa.gov/edu/images/news/m87_chandra.jpg\n",
            "[%] File Downloaded !\n",
            "\n",
            "[%] Downloading Image #31 from https://s-media-cache-ak0.pinimg.com/originals/4c/c9/55/4cc955b2d36d5a45ee47a6d7fc05f39d.jpg\n",
            "[%] File Downloaded !\n",
            "\n",
            "[%] Downloading Image #32 from https://img5.goodfon.com/wallpaper/nbig/b/7c/prostranstvo-zviozdy-galaktiki-tumannost-chiornaia-dyra.jpg\n",
            "[%] File Downloaded !\n",
            "\n",
            "[%] Downloading Image #33 from https://hdwallpaperim.com/wp-content/uploads/2017/08/22/382287-black_holes-stars-quasars-space.jpg\n",
            "[%] File Downloaded !\n",
            "\n",
            "[%] Downloading Image #34 from https://www.one-mind-one-energy.com/images/black-hole.jpg\n",
            "[%] File Downloaded !\n",
            "\n",
            "[%] Downloading Image #35 from https://i.pinimg.com/736x/52/1b/50/521b504e18308fd8b86d51e17bcb3102.jpg\n",
            "[%] File Downloaded !\n",
            "\n",
            "[%] Downloading Image #36 from https://cdn.images.express.co.uk/img/dynamic/151/590x/black-hole-news-astronomy-will-universe-collapse-into-black-hole-space-news-1306115.jpg?r=1594533976593\n",
            "[%] File Downloaded !\n",
            "\n",
            "[%] Downloading Image #37 from https://media.istockphoto.com/photos/black-hole-with-stars-and-nebula-somewhere-in-deep-space-picture-id876858982?k=6&amp;m=876858982&amp;s=170667a&amp;w=0&amp;h=inmoUE_psK4E4gfDwNTuhmR-NMw_bxoATVa8CRoZ3mU=\n",
            "[%] File Downloaded !\n",
            "\n",
            "[%] Downloading Image #38 from https://3c1703fe8d.site.internapcdn.net/newman/gfx/news/hires/2017/robinhoodbla.jpg\n",
            "[%] File Downloaded !\n",
            "\n",
            "[%] Downloading Image #39 from http://cdn.zmescience.com/wp-content/uploads/2017/08/black-hole.jpg\n",
            "[%] File Downloaded !\n",
            "\n",
            "[%] Downloading Image #40 from https://thumbs.dreamstime.com/z/black-hole-spiral-galaxy-space-star-field-nebulae-abstract-background-universe-gas-congestion-stars-dust-nebula-far-177468906.jpg\n",
            "[%] File Downloaded !\n",
            "\n",
            "[%] Downloading Image #41 from https://hot-town-images.s3.us-east-1.amazonaws.com/kotv/production/2019/September/27/nasa-captures-black-hole-ripping-swallowing-star-the-size-of-our-sun.1569614051000-0.jpeg\n",
            "[%] File Downloaded !\n",
            "\n",
            "[%] Downloading Image #42 from https://dm0qx8t0i9gc9.cloudfront.net/thumbnails/video/BKaAXTX/videoblocks-a-star-explodes-in-deep-space-creating-a-large-black-hole-gravitational-singularity_rtqivq5_g_thumbnail-1080_15.png\n",
            "[%] File Downloaded !\n",
            "\n",
            "[%] Downloading Image #43 from https://earthsky.org/upl/2015/10/black-hole-flare-sq.jpg\n",
            "[%] File Downloaded !\n",
            "\n",
            "[%] Downloading Image #44 from https://p0.pikist.com/photos/526/124/the-black-hole-solar-system-space-galaxy-universe-science-astronomy-stars-nasa.jpg\n",
            "[%] File Downloaded !\n",
            "\n",
            "[%] Downloading Image #45 from https://i.pinimg.com/736x/51/91/a0/5191a0269b837806971ad47f63033355--supermassive-blackhole-nature-images.jpg\n",
            "[%] File Downloaded !\n",
            "\n",
            "[%] Downloading Image #46 from http://annesastronomynews.com/wp-content/uploads/2013/01/star_cluster_black_hole_closeup.jpg\n",
            "[%] File Downloaded !\n",
            "\n",
            "[%] Downloading Image #47 from https://media.istockphoto.com/photos/deep-space-star-field-with-black-hole-picture-id918887006?k=6&amp;m=918887006&amp;s=170667a&amp;w=0&amp;h=FHA6T35dzz-8J9gNRf463ndNHI7unmpNsvFEfPIO22Y=\n",
            "[%] File Downloaded !\n",
            "\n",
            "[%] Downloading Image #48 from https://cdn.iflscience.com/images/1ffd0aa5-7e9c-54a9-baf3-f11c54d4d037/default-1575029364-cover-image.jpg\n",
            "[%] File Downloaded !\n",
            "\n",
            "[%] Downloading Image #49 from https://www.nasa.gov/images/content/195154main_WRstarBH2.jpg\n",
            "[%] File Downloaded !\n",
            "\n",
            "[%] Downloading Image #50 from https://i.pinimg.com/originals/b4/45/3c/b4453c309aa835cbaa0b0a1d91fa3fdd.jpg\n",
            "[%] File Downloaded !\n",
            "\n",
            "[%] Downloading Image #51 from https://ak.picdn.net/shutterstock/videos/1021658926/thumb/1.jpg\n",
            "[%] File Downloaded !\n",
            "\n",
            "[%] Downloading Image #52 from https://www.esa.int/var/esa/storage/images/esa_multimedia/images/2005/09/m31_site_of_the_blue_light_discovery/9541534-4-eng-GB/M31_site_of_the_blue_light_discovery_pillars.jpg\n",
            "[%] File Downloaded !\n",
            "\n",
            "[%] Downloading Image #53 from https://asgardia.space/storage/page/publication/be/73/be739b0896f2a2940ea873c3fc6c728812c009ad7aaddb7d8084459d6e50d77a.jpg\n",
            "[%] File Downloaded !\n",
            "\n",
            "[%] Downloading Image #54 from https://i1.wp.com/nypost.com/wp-content/uploads/sites/2/2020/10/blackhole-1.jpg?quality=90&amp;strip=all&amp;ssl=1\n",
            "[%] File Downloaded !\n",
            "\n",
            "[%] Downloading Image #55 from http://www.wallpaperup.com/uploads/wallpapers/2013/04/27/79582/c88f4b4b253392163bbd7b3bfc1ec403.jpg\n",
            "[%] File Downloaded !\n",
            "\n",
            "[%] Downloading Image #56 from https://media.istockphoto.com/photos/black-hole-over-colorful-star-field-in-outer-space-abstract-space-picture-id1060005690?k=6&amp;m=1060005690&amp;s=170667a&amp;w=0&amp;h=xkdbGwa8G6A1pNx94F6E6sDHR7f2KLVbE7Wgp8jk4ic=\n",
            "[%] File Downloaded !\n",
            "\n",
            "[%] Downloading Image #57 from https://i.pinimg.com/originals/ca/29/32/ca2932ce5f9c374bf3865a1d0c08ff22.jpg\n",
            "[%] File Downloaded !\n",
            "\n",
            "[%] Downloading Image #58 from https://i.pinimg.com/736x/60/69/76/60697661bdc456ce7639566e4a7dd694--sunrises-aurora.jpg\n",
            "[%] File Downloaded !\n",
            "\n",
            "[%] Downloading Image #59 from http://data1.ibtimes.co.in/cache-img-0-450/en/full/648149/1495809670_nasa-hubble-black-hole-dying-star-space-astronomy.png\n",
            "[%] File Downloaded !\n",
            "\n",
            "[%] Downloading Image #60 from https://ichef.bbci.co.uk/news/976/cpsprodpb/E15B/production/_119119675_20rainbowswirlrefracted.jpg\n",
            "[%] File Downloaded !\n",
            "\n",
            "[%] Downloading Image #61 from https://i.pinimg.com/originals/8e/4e/d9/8e4ed98428d467d670f610a9566ceb8c.jpg\n",
            "[%] File Downloaded !\n",
            "\n",
            "[%] Downloading Image #62 from https://earthsky.org/upl/2020/05/Black-Hole-e1588708787456.jpg\n",
            "[%] File Downloaded !\n",
            "\n",
            "[%] Downloading Image #63 from https://i.pinimg.com/originals/16/2c/0c/162c0cd8d5dd200a22c0b6418f9f8335.png\n",
            "[%] File Downloaded !\n",
            "\n",
            "[%] Downloading Image #64 from https://s.abcnews.com/images/Technology/GTY-vela-supernova-remnant-6-jt-170104_4x3_992.jpg\n",
            "[%] File Downloaded !\n",
            "\n",
            "[%] Downloading Image #65 from https://www.clarksvilleonline.com/wp-content/uploads/2020/11/NASA-discovers-Galaxy-that-is-surviving-Black-Holes-Feast-continues-forming-Stars.jpg\n",
            "[%] File Downloaded !\n",
            "\n",
            "[%] Downloading Image #66 from https://img5.goodfon.com/wallpaper/big/f/c7/black-hole-galaxy-space-stars-artwork-digital-art-art.jpg\n",
            "[%] File Downloaded !\n",
            "\n",
            "[%] Downloading Image #67 from https://media.istockphoto.com/photos/black-hole-concept-with-deep-universe-galaxy-planets-stars-picture-id531356649?k=6&amp;m=531356649&amp;s=170667a&amp;w=0&amp;h=iUmDSQH2r5EsfjfDJ47vwkaJNJ-ZbUcLp06jLnDpOEk=\n",
            "[%] File Downloaded !\n",
            "\n",
            "[%] Downloading Image #68 from http://www.astronomy.com/-/media/Images/News and Observing/News/2019/01/BlackHoleTravel.jpg?mw=600\n",
            "[!] Issue getting: http://www.astronomy.com/-/media/Images/News and Observing/News/2019/01/BlackHoleTravel.jpg?mw=600\n",
            "[!] Error:: URL can't contain control characters. '/-/media/Images/News and Observing/News/2019/01/BlackHoleTravel.jpg?mw=600' (found at least ' ')\n",
            "[%] Downloading Image #68 from http://newscenter.lbl.gov/wp-content/uploads/sites/2/2017/08/BhNs-DD2-M5-S7_Black.jpg\n",
            "[%] File Downloaded !\n",
            "\n",
            "[%] Downloading Image #69 from https://e3.365dm.com/18/06/1096x616/skynews-black-hole-star_4336696.jpg?20180615110608\n",
            "[Error]Invalid image, not saving https://e3.365dm.com/18/06/1096x616/skynews-black-hole-star_4336696.jpg?20180615110608\n",
            "\n",
            "[!] Issue getting: https://e3.365dm.com/18/06/1096x616/skynews-black-hole-star_4336696.jpg?20180615110608\n",
            "[!] Error:: Invalid image, not saving https://e3.365dm.com/18/06/1096x616/skynews-black-hole-star_4336696.jpg?20180615110608\n",
            "\n",
            "[%] Downloading Image #69 from https://cdn.mos.cms.futurecdn.net/dXh7tHYPcSBxJEQzTXugBY-1200-80.jpg\n",
            "[%] File Downloaded !\n",
            "\n",
            "[%] Downloading Image #70 from https://1721181113.rsc.cdn77.org/data/images/full/25054/blackhole.jpg\n",
            "[%] File Downloaded !\n",
            "\n",
            "[%] Downloading Image #71 from https://thumbs.dreamstime.com/z/black-hole-space-stars-clouds-starry-sky-126603536.jpg\n",
            "[%] File Downloaded !\n",
            "\n",
            "[%] Downloading Image #72 from https://cdn.images.express.co.uk/img/dynamic/151/750x445/1274420.jpg\n",
            "[%] File Downloaded !\n",
            "\n",
            "[%] Downloading Image #73 from https://picstatio.com/download/2560x1024/xrj8sp/space-black-holes-stars-wallpaper.png\n",
            "[%] File Downloaded !\n",
            "\n",
            "[%] Downloading Image #74 from https://cdn4.vectorstock.com/i/1000x1000/07/48/black-hole-cosmos-black-hole-in-space-stars-and-vector-20430748.jpg\n",
            "[%] File Downloaded !\n",
            "\n",
            "[%] Downloading Image #75 from http://www.nasa.gov/sites/default/files/thumbnails/image/esa_herschel_blackholefeedback_galaxy_compo.jpg\n",
            "[%] File Downloaded !\n",
            "\n",
            "[%] Downloading Image #76 from https://i.pinimg.com/736x/c9/13/3a/c9133a9de68feb8c2fc80b4be78e2fbd--documentary-black-holes.jpg\n",
            "[%] File Downloaded !\n",
            "\n",
            "[%] Downloading Image #77 from https://cdn.images.express.co.uk/img/dynamic/151/674x400/1-712227.jpg\n",
            "[%] File Downloaded !\n",
            "\n",
            "[%] Downloading Image #78 from http://s1.ibtimes.com/sites/www.ibtimes.com/files/2017/05/25/star-black-hole2.jpg\n",
            "[%] File Downloaded !\n",
            "\n",
            "[%] Downloading Image #79 from https://i.pinimg.com/originals/a6/13/75/a61375a44138a483aaf50e7823625e34.jpg\n",
            "[%] File Downloaded !\n",
            "\n",
            "[%] Downloading Image #80 from https://i.pinimg.com/originals/bc/41/1e/bc411e556628987d84896fc204107124.jpg\n",
            "[%] File Downloaded !\n",
            "\n",
            "[%] Downloading Image #81 from http://cdn.sci-news.com/images/enlarge7/image_8284e-3XMM-J215022.4-055108.jpg\n",
            "[%] File Downloaded !\n",
            "\n",
            "[%] Downloading Image #82 from https://www.unilad.co.uk/wp-content/uploads/2019/08/black-hole-4118711_1920.jpg\n",
            "[%] File Downloaded !\n",
            "\n",
            "[%] Downloading Image #83 from https://cdn.spacetelescope.org/archives/images/screen/heic0002a.jpg\n",
            "[%] File Downloaded !\n",
            "\n",
            "[%] Downloading Image #84 from https://newsmedia.tasnimnews.com/Tasnim/Uploaded/Image/1400/03/31/1400033117261862023065384.png\n",
            "[%] File Downloaded !\n",
            "\n",
            "[%] Downloading Image #85 from https://assets.newatlas.com/dims4/default/09c6c53/2147483647/strip/true/crop/1400x788+0+0/resize/1400x788!/quality/90/?url=http:%2F%2Fnewatlas-brightspot.s3.amazonaws.com%2Farchive%2Fjhu-supermassive-black-hole-consuming-star-1.jpg\n",
            "[%] File Downloaded !\n",
            "\n",
            "[%] Downloading Image #86 from https://i.ytimg.com/vi/3QnIfJqXpB0/maxresdefault.jpg\n",
            "[%] File Downloaded !\n",
            "\n",
            "[%] Downloading Image #87 from https://scihub.org/media/jpg/2019/04/blackhole1-768x447.jpg\n",
            "[%] File Downloaded !\n",
            "\n",
            "[%] Downloading Image #88 from http://sciencealert.com/images/2017-05/92384729387-black-hole-1.jpg\n",
            "[%] File Downloaded !\n",
            "\n",
            "[%] Downloading Image #89 from https://thumbs.dreamstime.com/z/black-hole-universe-wormhole-stars-outer-space-galaxy-center-big-deep-cosmos-science-concept-background-elements-169744979.jpg\n",
            "[%] File Downloaded !\n",
            "\n",
            "[%] Downloading Image #90 from https://i.pinimg.com/originals/97/6c/8f/976c8f3b31e7cd4a8ebf3a3ea3c87166.jpg\n",
            "[%] File Downloaded !\n",
            "\n",
            "[%] Downloading Image #91 from https://www.jpl.nasa.gov/spaceimages/images/largesize/PIA23687_hires.jpg\n",
            "[%] File Downloaded !\n",
            "\n",
            "[%] Downloading Image #92 from https://stillunfold.com/public/upload/story_images/51_2721_post_media_Flsy.jpg\n",
            "[%] File Downloaded !\n",
            "\n",
            "[%] Downloading Image #93 from http://jpl.nasa.gov/spaceimages/images/largesize/PIA17567_hires.jpg\n",
            "[%] File Downloaded !\n",
            "\n",
            "[%] Downloading Image #94 from https://d1o50x50snmhul.cloudfront.net/wp-content/uploads/2018/06/14163455/arp299_lg.jpg\n",
            "[%] File Downloaded !\n",
            "\n",
            "[%] Downloading Image #95 from https://astronomy.com/-/media/Images/News and Observing/News/2019/04/IMBHCloseEncounter.jpg?mw=600\n",
            "[!] Issue getting: https://astronomy.com/-/media/Images/News and Observing/News/2019/04/IMBHCloseEncounter.jpg?mw=600\n",
            "[!] Error:: URL can't contain control characters. '/-/media/Images/News and Observing/News/2019/04/IMBHCloseEncounter.jpg?mw=600' (found at least ' ')\n",
            "[%] Downloading Image #95 from https://cdn.mos.cms.futurecdn.net/6bxXsxujnH85oHQQWkA3yW.jpg\n",
            "[%] File Downloaded !\n",
            "\n",
            "\n",
            "\n",
            "[!!]Indexing page: 2\n",
            "\n",
            "[%] Indexed 35 Images on Page 2.\n",
            "\n",
            "===============================================\n",
            "\n",
            "[%] Downloading Image #96 from http://static1.businessinsider.com/image/597b68c0b50ab1011c8b523b-1352/black-hole-stars-galaxies-warped-space-nasa.jpg\n",
            "[%] File Downloaded !\n",
            "\n",
            "[%] Downloading Image #97 from https://images.wallpapersden.com/image/download/black-hole-space-stars_Z2ZmammUmZqaraWkpJRobWllrWdma2U.jpg\n",
            "[%] File Downloaded !\n",
            "\n",
            "[%] Downloading Image #98 from https://i.pinimg.com/originals/cb/40/45/cb4045eac6498934f19cbc886d06a5a1.jpg\n",
            "[%] File Downloaded !\n",
            "\n",
            "[%] Downloading Image #99 from http://s1.ibtimes.com/sites/www.ibtimes.com/files/styles/embed/public/2017/05/19/black-hole-eats.jpg\n",
            "[%] File Downloaded !\n",
            "\n",
            "[%] Downloading Image #100 from https://www.jpl.nasa.gov/spaceimages/images/largesize/PIA16605_hires.jpg\n",
            "[%] File Downloaded !\n",
            "\n",
            "\n",
            "\n",
            "[%] Done. Downloaded 100 images.\n",
            "===============================================\n",
            "\n",
            "Please show your support here\n",
            "https://www.buymeacoffee.com/gurugaurav\n",
            "\n",
            "===============================================\n",
            "\n"
          ]
        }
      ]
    },
    {
      "cell_type": "code",
      "metadata": {
        "id": "7Y_sVpw8TeWY",
        "colab": {
          "base_uri": "https://localhost:8080/"
        },
        "outputId": "36d5027e-fd87-4810-c95e-b465eba7de3a"
      },
      "source": [
        "downloader.download(\"white dwarf stars in space\",limit = 100,output_dir= 'images',adult_filter_off = True)"
      ],
      "execution_count": null,
      "outputs": [
        {
          "output_type": "stream",
          "name": "stdout",
          "text": [
            "[%] Downloading Images to /content/images/white dwarf stars in space\n",
            "\n",
            "\n",
            "[!!]Indexing page: 1\n",
            "\n",
            "[%] Indexed 101 Images on Page 1.\n",
            "\n",
            "===============================================\n",
            "\n",
            "[%] Downloading Image #1 from https://cdn.vox-cdn.com/thumbor/POiCpqjf6Xfj8ah3zgbZ3no0OcM=/0x285:3000x2285/1200x800/filters:focal(0x285:3000x2285)/cdn.vox-cdn.com/uploads/chorus_image/image/49205119/white_dwarf_kinda3.0.0.jpg\n",
            "[%] File Downloaded !\n",
            "\n",
            "[%] Downloading Image #2 from https://scitechdaily.com/images/Astronomers-Observe-Contracting-White-Dwarf-Star-For-The-First-Time-1024x1024.jpg\n",
            "[%] File Downloaded !\n",
            "\n",
            "[%] Downloading Image #3 from http://thescienceexplorer.com/sites/thescienceexplorer.com/files/blog/120718.jpg\n",
            "[%] File Downloaded !\n",
            "\n",
            "[%] Downloading Image #4 from http://scitechdaily.com/images/Hubble-Views-Exploding-White-Dwarf-Star.jpg\n",
            "[%] File Downloaded !\n",
            "\n",
            "[%] Downloading Image #5 from https://imgix.gizmodo.com.au/content/uploads/sites/2/2020/09/17/wrw3qco0tv6tfvkqgqqg.jpg?auto=format&amp;fit=fill&amp;q=65&amp;w=1280\n",
            "[%] File Downloaded !\n",
            "\n",
            "[%] Downloading Image #6 from https://i.pinimg.com/736x/cb/10/47/cb104791a12864a47b144d7a73807163--shooting-stars-dwarf.jpg\n",
            "[%] File Downloaded !\n",
            "\n",
            "[%] Downloading Image #7 from https://live.staticflickr.com/7442/15886005223_02e1a76ba6_b.jpg\n",
            "[%] File Downloaded !\n",
            "\n",
            "[%] Downloading Image #8 from https://astrobites.org/wp-content/uploads/2018/06/abdor3.png\n",
            "[%] File Downloaded !\n",
            "\n",
            "[%] Downloading Image #9 from https://imgix.bustle.com/inverse/f2/cc/77/8a/22f7/4deb/8737/e5590114f3be/this-animated-artistic-impression-shows-the-binary-star-system-ar-scorpii.gif?w=1200&amp;h=630&amp;q=70&amp;fit=crop&amp;crop=faces&amp;fm=jpg\n",
            "[%] File Downloaded !\n",
            "\n",
            "[%] Downloading Image #10 from https://specials-images.forbesimg.com/imageserve/648917142/960x0.jpg?fit=scale\n",
            "[%] File Downloaded !\n",
            "\n",
            "[%] Downloading Image #11 from http://cdn.sci-news.com/images/enlarge6/image_7429e-ZTF-J1539-5027.jpg\n",
            "[%] File Downloaded !\n",
            "\n",
            "[%] Downloading Image #12 from https://s3.amazonaws.com/images.spaceref.com/news/2019/oo218394_web.jpg\n",
            "[%] File Downloaded !\n",
            "\n",
            "[%] Downloading Image #13 from https://thumbs.dreamstime.com/z/white-dwarf-star-dark-space-background-white-dwarf-star-dark-space-background-illustration-167951740.jpg\n",
            "[%] File Downloaded !\n",
            "\n",
            "[%] Downloading Image #14 from https://i.pinimg.com/originals/b7/6c/6c/b76c6c865f572b1d9a73eb06849db10f.jpg\n",
            "[%] File Downloaded !\n",
            "\n",
            "[%] Downloading Image #15 from https://cdn.sci.esa.int/documents/33580/35361/1567213773212-ESA_Gaia_Interior_of_white_dwarf_625.jpg\n",
            "[%] File Downloaded !\n",
            "\n",
            "[%] Downloading Image #16 from https://www.extremetech.com/wp-content/uploads/2014/06/White-Dwarf-640x353.jpg\n",
            "[%] File Downloaded !\n",
            "\n",
            "[%] Downloading Image #17 from https://www.extremetech.com/wp-content/uploads/2014/06/435599735_640.jpg\n",
            "[%] File Downloaded !\n",
            "\n",
            "[%] Downloading Image #18 from https://cdn-images-1.medium.com/max/1200/1*Big8C5PNb_wNFxo31qDLOA.jpeg\n",
            "[Error]Invalid image, not saving https://cdn-images-1.medium.com/max/1200/1*Big8C5PNb_wNFxo31qDLOA.jpeg\n",
            "\n",
            "[!] Issue getting: https://cdn-images-1.medium.com/max/1200/1*Big8C5PNb_wNFxo31qDLOA.jpeg\n",
            "[!] Error:: Invalid image, not saving https://cdn-images-1.medium.com/max/1200/1*Big8C5PNb_wNFxo31qDLOA.jpeg\n",
            "\n",
            "[%] Downloading Image #18 from https://qph.fs.quoracdn.net/main-qimg-622dfcd7946c328bf10cbe7b36e4f801-c\n",
            "[%] File Downloaded !\n",
            "\n",
            "[%] Downloading Image #19 from https://images.fineartamerica.com/images-medium-large-5/white-dwarf-star-mark-garlickscience-photo-library.jpg\n",
            "[%] File Downloaded !\n",
            "\n",
            "[%] Downloading Image #20 from https://sci.esa.int/documents/34247/35306/1567219524959-i_screenimage_16957.jpg\n",
            "[%] File Downloaded !\n",
            "\n",
            "[%] Downloading Image #21 from https://cdn.mos.cms.futurecdn.net/VZZRRfEZ5zCJKHod6sdyrg.jpg\n",
            "[%] File Downloaded !\n",
            "\n",
            "[%] Downloading Image #22 from https://www.universetoday.com/wp-content/uploads/2008/06/lostwhitedwarf.jpg\n",
            "[%] File Downloaded !\n",
            "\n",
            "[%] Downloading Image #23 from https://physics.news/wp-content/uploads/sites/527/2020/04/white-dwarf-star-nebula-supernova-space-cosmic-1.jpg\n",
            "[%] File Downloaded !\n",
            "\n",
            "[%] Downloading Image #24 from https://nypost.com/wp-content/uploads/sites/2/2020/03/white-dwarf-carbon-01.jpg?quality=90&amp;strip=all&amp;w=1200\n",
            "[%] File Downloaded !\n",
            "\n",
            "[%] Downloading Image #25 from http://www.absolute-knowledge.com/wp-content/uploads/2019/01/White-Dwarf-Stars-are-Turning-into-Crystals-Absolute-Knowledge.jpg\n",
            "[%] File Downloaded !\n",
            "\n",
            "[%] Downloading Image #26 from https://media5.newsnationtv.com/images/2019/02/21/nasawhitedwarf-262818422.jpg\n",
            "[%] File Downloaded !\n",
            "\n",
            "[%] Downloading Image #27 from http://sci.esa.int/documents/34247/35306/1567219524055-i_screenimage_16959.jpg\n",
            "[%] File Downloaded !\n",
            "\n",
            "[%] Downloading Image #28 from http://i.kinja-img.com/gawker-media/image/upload/s--BBLMuPzr--/18dxrvo9pdqqdjpg.jpg\n",
            "[%] File Downloaded !\n",
            "\n",
            "[%] Downloading Image #29 from https://www.skyandtelescope.com/wp-content/uploads/white_dwarf_480px.jpg\n",
            "[%] File Downloaded !\n",
            "\n",
            "[%] Downloading Image #30 from https://www.factsjustforkids.com/images/white-dwarf-star.png\n",
            "[%] File Downloaded !\n",
            "\n",
            "[%] Downloading Image #31 from https://scitechdaily.com/images/White-Dwarf-Surprises-Astronomers.jpg\n",
            "[%] File Downloaded !\n",
            "\n",
            "[%] Downloading Image #32 from https://www.thecherawchronicle.com/wp-content/uploads/2021/07/A-little-white-dwarf-discovered-that-it-might-collapse-1024x683.jpg\n",
            "[%] File Downloaded !\n",
            "\n",
            "[%] Downloading Image #33 from https://s3.amazonaws.com/cms.ipressroom.com/173/files/20171/589caff12cfac20c2f00691c_White+dwarf/White+dwarf_96a1b1e0-b84f-4061-a9a7-458f061bcf65-prv.jpg\n",
            "[%] File Downloaded !\n",
            "\n",
            "[%] Downloading Image #34 from https://i.pinimg.com/originals/82/cb/12/82cb12e09ab05a2e8ddeae250f97efd7.jpg\n",
            "[%] File Downloaded !\n",
            "\n",
            "[%] Downloading Image #35 from https://cosmoquest.org/x/dailyspace/files/2019/12/Daily-Space-1-2-768x432.jpg\n",
            "[%] File Downloaded !\n",
            "\n",
            "[%] Downloading Image #36 from https://cdn.mos.cms.futurecdn.net/WBEqTo2pnPCdYg29QqyjUQ-1200-80.jpg\n",
            "[%] File Downloaded !\n",
            "\n",
            "[%] Downloading Image #37 from https://1.bp.blogspot.com/-8SmOWkikvRk/Xil-neJ4UnI/AAAAAAAABHA/6giUoi6Kcjcdb37UXL0oL7bvsgeNWSALACLcBGAsYHQ/s1600/27666.jpg\n",
            "[%] File Downloaded !\n",
            "\n",
            "[%] Downloading Image #38 from https://earthsky.org/upl/2019/12/WDJ09141914-white-dwarf-giant-planet-evaporating-ESO-Dec-4-2019-800x491.jpg\n",
            "[%] File Downloaded !\n",
            "\n",
            "[%] Downloading Image #39 from https://cdn.mos.cms.futurecdn.net/U4whKiKNbHWkniLyv2gYuF-1200-80.jpg\n",
            "[%] File Downloaded !\n",
            "\n",
            "[%] Downloading Image #40 from https://www.universetoday.com/wp-content/uploads/2020/06/hero_starrfield.jpg\n",
            "[%] File Downloaded !\n",
            "\n",
            "[%] Downloading Image #41 from http://www.nasa.gov/images/content/200012main_rs_image_feature_793_946x710.jpg\n",
            "[%] File Downloaded !\n",
            "\n",
            "[%] Downloading Image #42 from https://s3.envato.com/files/218456714/1.jpg\n",
            "[%] File Downloaded !\n",
            "\n",
            "[%] Downloading Image #43 from https://i.dailymail.co.uk/i/pix/2016/03/31/17/32B622B100000578-3517714-image-a-25_1459442857907.jpg\n",
            "[Error]Invalid image, not saving https://i.dailymail.co.uk/i/pix/2016/03/31/17/32B622B100000578-3517714-image-a-25_1459442857907.jpg\n",
            "\n",
            "[!] Issue getting: https://i.dailymail.co.uk/i/pix/2016/03/31/17/32B622B100000578-3517714-image-a-25_1459442857907.jpg\n",
            "[!] Error:: Invalid image, not saving https://i.dailymail.co.uk/i/pix/2016/03/31/17/32B622B100000578-3517714-image-a-25_1459442857907.jpg\n",
            "\n",
            "[%] Downloading Image #43 from https://i0.wp.com/i.redd.it/zi54jbkhu3d51.jpg?ssl=1\n",
            "[%] File Downloaded !\n",
            "\n",
            "[%] Downloading Image #44 from http://img-aws.ehowcdn.com/877x500p/photos.demandstudios.com/getty/article/153/85/dv070007.jpg\n",
            "[%] File Downloaded !\n",
            "\n",
            "[%] Downloading Image #45 from https://upload.wikimedia.org/wikipedia/commons/b/b1/White_dwarf_star_system_GD_61.jpg\n",
            "[%] File Downloaded !\n",
            "\n",
            "[%] Downloading Image #46 from https://earthsky.org/upl/2019/02/white-dwarf-LSPM-J02073331-rings-2019-e1551625989998.jpg\n",
            "[%] File Downloaded !\n",
            "\n",
            "[%] Downloading Image #47 from https://media.voltron.voanews.com/Drupal/01live-166/styles/892x501/s3/2019-04/2A4C36C0-FB8B-44F0-9E77-C61388F3458E.jpg?itok=JSJB4dVS\n",
            "[%] File Downloaded !\n",
            "\n",
            "[%] Downloading Image #48 from https://cdn.mos.cms.futurecdn.net/dnzepGng5BE5jSxjWUxK9b-1200-80.jpg\n",
            "[%] File Downloaded !\n",
            "\n",
            "[%] Downloading Image #49 from https://cosmosmagazine.com/wp-content/uploads/2020/02/190401-dwarf-full.jpg\n",
            "[%] File Downloaded !\n",
            "\n",
            "[%] Downloading Image #50 from https://qph.fs.quoracdn.net/main-qimg-441b813f5fd813189534fafc7f2eeb37\n",
            "[%] File Downloaded !\n",
            "\n",
            "[%] Downloading Image #51 from https://1.bp.blogspot.com/-CLQ5BXVrFUo/XwRrcaHxQhI/AAAAAAAAUe8/mwapeS0CEZIR7dL7tRMEBJsDclsir220QCPcBGAsYHg/s640/White%2Bdwarf%2Bstars%2Bas%2Bthey%2Bdie%2Bbreathe%2Blife%2Binto%2BEarth%2B2020.jpg\n",
            "[%] File Downloaded !\n",
            "\n",
            "[%] Downloading Image #52 from https://www.eurasiareview.com/wp-content/uploads/2017/06/a-71.jpg\n",
            "[%] File Downloaded !\n",
            "\n",
            "[%] Downloading Image #53 from https://typeset-beta.imgix.net/rehost/2016/9/13/2b007e5c-25ee-4a13-99ac-7461e6dd72e5.png?w=970&amp;h=582&amp;fit=crop&amp;crop=faces&amp;auto=format&amp;q=70\n",
            "[%] File Downloaded !\n",
            "\n",
            "[%] Downloading Image #54 from http://cronodon.com/images/WhiteDwarf2.jpg\n",
            "[%] File Downloaded !\n",
            "\n",
            "[%] Downloading Image #55 from https://searchoflife.com/wp-content/uploads/2014/06/earth-size-diamond-white-dwarf-star.jpg\n",
            "[%] File Downloaded !\n",
            "\n",
            "[%] Downloading Image #56 from https://cdn.mos.cms.futurecdn.net/Q4Gkms7k3DGhhyg2YJSEpd-1200-80.jpg\n",
            "[%] File Downloaded !\n",
            "\n",
            "[%] Downloading Image #57 from https://www.nasa.gov/sites/default/files/thumbnails/image/stsci-j-p2020a-dwarfnovasystem-3840x2160.png\n",
            "[%] File Downloaded !\n",
            "\n",
            "[%] Downloading Image #58 from http://i.ndtvimg.com/i/2016-07/dwarf-planet_650x400_81469713159.jpg\n",
            "[%] File Downloaded !\n",
            "\n",
            "[%] Downloading Image #59 from https://3.bp.blogspot.com/-bV516_MuS2A/V8tTLZX7HHI/AAAAAAAAAL4/FdosrhCynRwldjfkBXR2OXFYw6eRvJqBACPcB/s1600/Captura.PNG\n",
            "[%] File Downloaded !\n",
            "\n",
            "[%] Downloading Image #60 from https://data1.ibtimes.co.in/cache-img-640-425/en/full/635586/1486789528_nasawhite-dwarf-starnasas-hubble.jpg\n",
            "[%] File Downloaded !\n",
            "\n",
            "[%] Downloading Image #61 from https://skyandtelescope.org/wp-content/uploads/ELMwhitedwarf-600px.jpg\n",
            "[%] File Downloaded !\n",
            "\n",
            "[%] Downloading Image #62 from http://www.nasa.gov/centers/goddard/images/content/207358main_whitedwarf_20080102_HI1.jpg\n",
            "[%] File Downloaded !\n",
            "\n",
            "[%] Downloading Image #63 from http://images.spaceref.com/news/white.dwarf.jpg\n",
            "[%] File Downloaded !\n",
            "\n",
            "[%] Downloading Image #64 from https://www.buytelescopes.com/images/article/861/ca08f2cc6ee40295c72f6b2ae594e749d8c7833c.PNG\n",
            "[%] File Downloaded !\n",
            "\n",
            "[%] Downloading Image #65 from https://www.syfy.com/sites/syfy/files/styles/1200x680_hero/public/2020/09/whitedwarfs.jpg\n",
            "[%] File Downloaded !\n",
            "\n",
            "[%] Downloading Image #66 from http://jpl.nasa.gov/spaceimages/images/largesize/PIA04231_hires.jpg\n",
            "[%] File Downloaded !\n",
            "\n",
            "[%] Downloading Image #67 from https://scitechdaily.com/images/Panorama-of-Spiral-Galaxy-M31.jpg\n",
            "[%] File Downloaded !\n",
            "\n",
            "[%] Downloading Image #68 from https://earthsky.org/upl/2019/12/WD1145017-white-dwarf-disintegrating-planet-Oct-21-2015-800x533.jpg\n",
            "[%] File Downloaded !\n",
            "\n",
            "[%] Downloading Image #69 from https://3.bp.blogspot.com/-HS23ZCZ6db8/U9T3Ctr3x3I/AAAAAAAAGvw/6202a-j6274/s1600/Post+-+August+2014+(2)+-+1.jpg\n",
            "[%] File Downloaded !\n",
            "\n",
            "[%] Downloading Image #70 from https://planetfacts.org/wp-content/uploads/2011/04/White-Dwarf.png\n",
            "[%] File Downloaded !\n",
            "\n",
            "[%] Downloading Image #71 from https://cdn.vox-cdn.com/thumbor/sgGzAKviCAdwXxAAso9hGYaUb-s=/99x0:1179x720/1200x800/filters:focal(99x0:1179x720)/cdn.vox-cdn.com/uploads/chorus_image/image/50423501/nova3.0.0.png\n",
            "[%] File Downloaded !\n",
            "\n",
            "[%] Downloading Image #72 from https://i.pinimg.com/originals/87/0c/81/870c818b02a4eb10515226887ae9935d.jpg\n",
            "[%] File Downloaded !\n",
            "\n",
            "[%] Downloading Image #73 from https://cdn.mos.cms.futurecdn.net/iuWB2NM48R2r9q7QhyJfhe-320-80.jpg\n",
            "[%] File Downloaded !\n",
            "\n",
            "[%] Downloading Image #74 from https://nerdist.com/wp-content/uploads/2020/08/White-Dwarf-Stars-shrink-feature-image-08122020.jpg\n",
            "[%] File Downloaded !\n",
            "\n",
            "[%] Downloading Image #75 from https://i.pinimg.com/originals/f3/9c/4a/f39c4aeb3fd0647d79619c3043fc3bea.jpg\n",
            "[%] File Downloaded !\n",
            "\n",
            "[%] Downloading Image #76 from https://www.factsjustforkids.com/images/a-white-dwarf-star.png\n",
            "[%] File Downloaded !\n",
            "\n",
            "[%] Downloading Image #77 from http://cdn.spacetelescope.org/archives/images/screen/opo9816c.jpg\n",
            "[%] File Downloaded !\n",
            "\n",
            "[%] Downloading Image #78 from http://cdn.sci-news.com/images/enlarge5/image_6805_2e-White-Dwarf-Crystals.jpg\n",
            "[%] File Downloaded !\n",
            "\n",
            "[%] Downloading Image #79 from https://i.redd.it/a3q4f8hcol441.jpg\n",
            "[%] File Downloaded !\n",
            "\n",
            "[%] Downloading Image #80 from https://www.redorbit.com/wp-content/uploads/2015/11/ThinkstockPhotos-485439414.jpg\n",
            "[%] File Downloaded !\n",
            "\n",
            "[%] Downloading Image #81 from http://p.motionelements.com/stock-video/science-technology/me6645884-white-dwarf-star-hd-a0280.jpg\n",
            "[%] File Downloaded !\n",
            "\n",
            "[%] Downloading Image #82 from https://cdn-images-1.medium.com/max/1600/0*OdFlQS6Y1MWaEIwM.jpg\n",
            "[Error]Invalid image, not saving https://cdn-images-1.medium.com/max/1600/0*OdFlQS6Y1MWaEIwM.jpg\n",
            "\n",
            "[!] Issue getting: https://cdn-images-1.medium.com/max/1600/0*OdFlQS6Y1MWaEIwM.jpg\n",
            "[!] Error:: Invalid image, not saving https://cdn-images-1.medium.com/max/1600/0*OdFlQS6Y1MWaEIwM.jpg\n",
            "\n",
            "[%] Downloading Image #82 from https://i0.wp.com/www.newsgram.com/wp-content/uploads/2020/09/607d9093842f826a864c6bc6dd69db8f11.jpg\n",
            "[!] Issue getting: https://i0.wp.com/www.newsgram.com/wp-content/uploads/2020/09/607d9093842f826a864c6bc6dd69db8f11.jpg\n",
            "[!] Error:: HTTP Error 404: File Not Found\n",
            "[%] Downloading Image #82 from http://fc06.deviantart.net/fs71/f/2010/139/b/3/white_dwarf_2_0_by_I3a12C1.jpg\n",
            "[%] File Downloaded !\n",
            "\n",
            "[%] Downloading Image #83 from https://nineplanets.org/wp-content/uploads/2020/06/dwarf.jpg\n",
            "[%] File Downloaded !\n",
            "\n",
            "[%] Downloading Image #84 from https://astrobites.org/wp-content/uploads/2018/06/abdor3-300x228.png\n",
            "[%] File Downloaded !\n",
            "\n",
            "[%] Downloading Image #85 from http://www.universetoday.com/wp-content/uploads/2008/05/first-pulsating-carbon-white-dwarf.jpg\n",
            "[%] File Downloaded !\n",
            "\n",
            "[%] Downloading Image #86 from https://english.cdn.zeenews.com/sites/default/files/2016/04/01/474804-dwarf-star.jpg\n",
            "[%] File Downloaded !\n",
            "\n",
            "[%] Downloading Image #87 from http://www.universetoday.com/wp-content/uploads/2010/02/Measuring-a-White-Dwarf-Star.jpg\n",
            "[%] File Downloaded !\n",
            "\n",
            "[%] Downloading Image #88 from https://aasnova.org/wp-content/uploads/2016/08/fig11.jpg\n",
            "[%] File Downloaded !\n",
            "\n",
            "[%] Downloading Image #89 from https://images.squarespace-cdn.com/content/v1/54bf12d2e4b0f0d81bf74ee7/1496993067028-9WBEZXQVX02S8NA8W2NK/ke17ZwdGBToddI8pDm48kFUuWTy4vE22vjolQIB2zkAUqsxRUqqbr1mOJYKfIPR7LoDQ9mXPOjoJoqy81S2I8N_N4V1vUb5AoIIIbLZhVYxCRW4BPu10St3TBAUQYVKcv7arMQHROc7NtQmQeWqeq9IpiE2JSnaIPc0uKtt0d6_Jo-XN4R9B8rEUTOJ7EuhY/image-asset.gif\n",
            "[%] File Downloaded !\n",
            "\n",
            "[%] Downloading Image #90 from https://www.bing.com/th/id/OGC.67aff6db906156191778d3763aaeb819?pid=1.7&amp;rurl=https%3a%2f%2fimages.squarespace-cdn.com%2fcontent%2fv1%2f54bf12d2e4b0f0d81bf74ee7%2f1496993067028-9WBEZXQVX02S8NA8W2NK%2fke17ZwdGBToddI8pDm48kFUuWTy4vE22vjolQIB2zkAUqsxRUqqbr1mOJYKfIPR7LoDQ9mXPOjoJoqy81S2I8N_N4V1vUb5AoIIIbLZhVYxCRW4BPu10St3TBAUQYVKcv7arMQHROc7NtQmQeWqeq9IpiE2JSnaIPc0uKtt0d6_Jo-XN4R9B8rEUTOJ7EuhY%2fimage-asset.gif&amp;ehk=vTHAHc3SmIZvYk%2fp%2bAOn9HNWSxnAyzoztMC9SpRwZfo%3d\n",
            "[!] Issue getting: https://www.bing.com/th/id/OGC.67aff6db906156191778d3763aaeb819?pid=1.7&amp;rurl=https%3a%2f%2fimages.squarespace-cdn.com%2fcontent%2fv1%2f54bf12d2e4b0f0d81bf74ee7%2f1496993067028-9WBEZXQVX02S8NA8W2NK%2fke17ZwdGBToddI8pDm48kFUuWTy4vE22vjolQIB2zkAUqsxRUqqbr1mOJYKfIPR7LoDQ9mXPOjoJoqy81S2I8N_N4V1vUb5AoIIIbLZhVYxCRW4BPu10St3TBAUQYVKcv7arMQHROc7NtQmQeWqeq9IpiE2JSnaIPc0uKtt0d6_Jo-XN4R9B8rEUTOJ7EuhY%2fimage-asset.gif&amp;ehk=vTHAHc3SmIZvYk%2fp%2bAOn9HNWSxnAyzoztMC9SpRwZfo%3d\n",
            "[!] Error:: HTTP Error 404: Not Found\n",
            "[%] Downloading Image #90 from https://www.techexplorist.com/wp-content/uploads/2019/12/giant-planet-and-white-dwarf.jpg\n",
            "[%] File Downloaded !\n",
            "\n",
            "[%] Downloading Image #91 from https://i.pinimg.com/736x/20/3d/03/203d03bc0d5019911652d1e1eb57b0d9--beautiful-life-beautiful-space.jpg\n",
            "[%] File Downloaded !\n",
            "\n",
            "[%] Downloading Image #92 from https://66.media.tumblr.com/1b2e1668094c47639206504b54123fc5/e3d9d9d719e2293a-90/s640x960/d7fae6cd49d375dd1ef9ca86962dd91fcd603c32.jpg\n",
            "[Error]Invalid image, not saving https://66.media.tumblr.com/1b2e1668094c47639206504b54123fc5/e3d9d9d719e2293a-90/s640x960/d7fae6cd49d375dd1ef9ca86962dd91fcd603c32.jpg\n",
            "\n",
            "[!] Issue getting: https://66.media.tumblr.com/1b2e1668094c47639206504b54123fc5/e3d9d9d719e2293a-90/s640x960/d7fae6cd49d375dd1ef9ca86962dd91fcd603c32.jpg\n",
            "[!] Error:: Invalid image, not saving https://66.media.tumblr.com/1b2e1668094c47639206504b54123fc5/e3d9d9d719e2293a-90/s640x960/d7fae6cd49d375dd1ef9ca86962dd91fcd603c32.jpg\n",
            "\n",
            "[%] Downloading Image #92 from https://engineerforspace.files.wordpress.com/2020/09/gallery_image_10490.jpg\n",
            "[%] File Downloaded !\n",
            "\n",
            "[%] Downloading Image #93 from http://d1jqu7g1y74ds1.cloudfront.net/wp-content/uploads/2009/03/whitedwarf2-250x183.jpg\n",
            "[%] File Downloaded !\n",
            "\n",
            "[%] Downloading Image #94 from http://www.nasa.gov/sites/default/files/images/173354main_image_feature_793_ys_full.jpg\n",
            "[%] File Downloaded !\n",
            "\n",
            "[%] Downloading Image #95 from https://a57.foxnews.com/static.foxnews.com/foxnews.com/content/uploads/2020/03/640/320/merged-white-dwarf-star.jpg?ve=1&amp;tl=1\n",
            "[%] File Downloaded !\n",
            "\n",
            "\n",
            "\n",
            "[!!]Indexing page: 2\n",
            "\n",
            "[%] Indexed 35 Images on Page 2.\n",
            "\n",
            "===============================================\n",
            "\n",
            "[%] Downloading Image #96 from https://cdn.vox-cdn.com/thumbor/POiCpqjf6Xfj8ah3zgbZ3no0OcM=/0x285:3000x2285/1200x800/filters:focal(0x285:3000x2285)/cdn.vox-cdn.com/uploads/chorus_image/image/49205119/white_dwarf_kinda3.0.0.jpg\n",
            "[%] File Downloaded !\n",
            "\n",
            "[%] Downloading Image #97 from http://thescienceexplorer.com/sites/thescienceexplorer.com/files/blog/120718.jpg\n",
            "[%] File Downloaded !\n",
            "\n",
            "[%] Downloading Image #98 from https://scitechdaily.com/images/Astronomers-Observe-Contracting-White-Dwarf-Star-For-The-First-Time-1024x1024.jpg\n",
            "[%] File Downloaded !\n",
            "\n",
            "[%] Downloading Image #99 from http://scitechdaily.com/images/Hubble-Views-Exploding-White-Dwarf-Star.jpg\n",
            "[%] File Downloaded !\n",
            "\n",
            "[%] Downloading Image #100 from https://imgix.gizmodo.com.au/content/uploads/sites/2/2020/09/17/wrw3qco0tv6tfvkqgqqg.jpg?auto=format&amp;fit=fill&amp;q=65&amp;w=1280\n",
            "[%] File Downloaded !\n",
            "\n",
            "\n",
            "\n",
            "[%] Done. Downloaded 100 images.\n",
            "===============================================\n",
            "\n",
            "Please show your support here\n",
            "https://www.buymeacoffee.com/gurugaurav\n",
            "\n",
            "===============================================\n",
            "\n"
          ]
        }
      ]
    },
    {
      "cell_type": "markdown",
      "metadata": {
        "id": "Dd-DJJlcnwK0"
      },
      "source": [
        "To Download the images folder further!!"
      ]
    },
    {
      "cell_type": "code",
      "metadata": {
        "id": "0JYfz2lSVEyU",
        "colab": {
          "base_uri": "https://localhost:8080/",
          "height": 35
        },
        "outputId": "cc65e3fa-7a9d-4f81-e9a0-745a5ee3a621"
      },
      "source": [
        "import shutil\n",
        "shutil.make_archive('images', 'zip', 'images')"
      ],
      "execution_count": null,
      "outputs": [
        {
          "output_type": "execute_result",
          "data": {
            "application/vnd.google.colaboratory.intrinsic+json": {
              "type": "string"
            },
            "text/plain": [
              "'/content/images.zip'"
            ]
          },
          "metadata": {},
          "execution_count": 8
        }
      ]
    },
    {
      "cell_type": "markdown",
      "metadata": {
        "id": "j7yTxQFHf49Z"
      },
      "source": [
        "## <font color='Blue'> Model Building Without CNN"
      ]
    },
    {
      "cell_type": "code",
      "metadata": {
        "id": "ydTOA4AfUOnY"
      },
      "source": [
        "import os\n",
        "import cv2\n",
        "import matplotlib.pyplot as plt\n",
        "import numpy as np\n",
        "from skimage.io import imread\n",
        "from skimage.transform import resize"
      ],
      "execution_count": null,
      "outputs": []
    },
    {
      "cell_type": "code",
      "metadata": {
        "id": "8UW1LIj9UbsI"
      },
      "source": [
        "target = []\n",
        "images = []\n",
        "flat_data = []\n",
        "DATA = '/content/images'\n",
        "CATEGORIES = [\"black hole stars in space images\",\"Pulsar stars in space images\",\"white dwarf stars in space\"]\n",
        "for x in CATEGORIES:\n",
        "  class_num = CATEGORIES.index(x)\n",
        "  path = os.path.join(DATA,x)\n",
        "  for img in os.listdir(path):\n",
        "    img_array =imread(os.path.join(path,img),0)\n",
        "    #print(plt.imshow(img_array))\n",
        "    img_resized =resize(img_array,(150,150,3))\n",
        "    flat_data.append(img_resized.flatten())\n",
        "    images.append(img_resized)\n",
        "    target.append(class_num)\n",
        "    \n",
        " \n",
        "flat_data = np.array(flat_data)\n",
        "images = np.array(images)\n",
        "target = np.array(target)"
      ],
      "execution_count": null,
      "outputs": []
    },
    {
      "cell_type": "code",
      "metadata": {
        "id": "GkBYaAx6UgUX"
      },
      "source": [
        "from sklearn.model_selection import train_test_split\n",
        "x_train,x_test,y_train,y_test = train_test_split(flat_data,target,test_size = 0.3,random_state = 1)"
      ],
      "execution_count": null,
      "outputs": []
    },
    {
      "cell_type": "code",
      "metadata": {
        "id": "GsLtacM6sS5S"
      },
      "source": [
        "import numpy as np\n",
        "np.set_printoptions(linewidth=900)\n",
        "print(images[1])"
      ],
      "execution_count": null,
      "outputs": []
    },
    {
      "cell_type": "code",
      "metadata": {
        "id": "sMR7cgldWxvH"
      },
      "source": [
        "!pip install globe"
      ],
      "execution_count": null,
      "outputs": []
    },
    {
      "cell_type": "markdown",
      "metadata": {
        "id": "adDvdCEfgJOy"
      },
      "source": [
        "## <font color='Blue'> Model Builting Using pre-trained CNN model"
      ]
    },
    {
      "cell_type": "code",
      "metadata": {
        "id": "Kttil895U9Wr"
      },
      "source": [
        "import tensorflow as tf\n",
        "from keras.layers import Input,Lambda,Dense,Flatten\n",
        "from keras.models import Model\n",
        "from keras.applications.vgg16 import VGG16\n",
        "from keras.applications.vgg16 import preprocess_input\n",
        "from keras.preprocessing import image\n",
        "from keras.preprocessing.image import ImageDataGenerator\n",
        "import numpy as np\n",
        "import glob as glob\n",
        "import tensorflow.keras as keras\n",
        "import matplotlib.pyplot as plt"
      ],
      "execution_count": null,
      "outputs": []
    },
    {
      "cell_type": "code",
      "metadata": {
        "id": "XYY_rgHTf2Nc"
      },
      "source": [
        "vgg16 = keras.applications.vgg16"
      ],
      "execution_count": null,
      "outputs": []
    },
    {
      "cell_type": "markdown",
      "metadata": {
        "id": "V9wEr-o5g1CU"
      },
      "source": [
        "We tried with VGG16,ResNet50,InceptionV3----> Finally VGG16 has given descent Results,Hence we used that for model building"
      ]
    },
    {
      "cell_type": "code",
      "metadata": {
        "id": "jFaxhco0ZBmt"
      },
      "source": [
        "IMG_SIZE = [224,224]\n",
        "vgg = vgg16.VGG16(input_shape = IMG_SIZE + [3],weights = 'imagenet',include_top =False)"
      ],
      "execution_count": null,
      "outputs": []
    },
    {
      "cell_type": "markdown",
      "metadata": {
        "id": "p05rB6ylhOUD"
      },
      "source": [
        "For Adding our parameters to fully connected layer(i.e. simple NN) we freezed last layer"
      ]
    },
    {
      "cell_type": "code",
      "metadata": {
        "id": "b9fSkG8CaJup"
      },
      "source": [
        "for layer in vgg.layers:\n",
        "  layer.trainable = False"
      ],
      "execution_count": null,
      "outputs": []
    },
    {
      "cell_type": "code",
      "metadata": {
        "id": "t1nwVADSaiVZ",
        "colab": {
          "base_uri": "https://localhost:8080/"
        },
        "outputId": "34ae439f-6aea-4880-bc05-1f72573e0b0b"
      },
      "source": [
        "vgg.summary()"
      ],
      "execution_count": null,
      "outputs": [
        {
          "output_type": "stream",
          "name": "stdout",
          "text": [
            "Model: \"vgg16\"\n",
            "_________________________________________________________________\n",
            " Layer (type)                Output Shape              Param #   \n",
            "=================================================================\n",
            " input_2 (InputLayer)        [(None, 224, 224, 3)]     0         \n",
            "                                                                 \n",
            " block1_conv1 (Conv2D)       (None, 224, 224, 64)      1792      \n",
            "                                                                 \n",
            " block1_conv2 (Conv2D)       (None, 224, 224, 64)      36928     \n",
            "                                                                 \n",
            " block1_pool (MaxPooling2D)  (None, 112, 112, 64)      0         \n",
            "                                                                 \n",
            " block2_conv1 (Conv2D)       (None, 112, 112, 128)     73856     \n",
            "                                                                 \n",
            " block2_conv2 (Conv2D)       (None, 112, 112, 128)     147584    \n",
            "                                                                 \n",
            " block2_pool (MaxPooling2D)  (None, 56, 56, 128)       0         \n",
            "                                                                 \n",
            " block3_conv1 (Conv2D)       (None, 56, 56, 256)       295168    \n",
            "                                                                 \n",
            " block3_conv2 (Conv2D)       (None, 56, 56, 256)       590080    \n",
            "                                                                 \n",
            " block3_conv3 (Conv2D)       (None, 56, 56, 256)       590080    \n",
            "                                                                 \n",
            " block3_pool (MaxPooling2D)  (None, 28, 28, 256)       0         \n",
            "                                                                 \n",
            " block4_conv1 (Conv2D)       (None, 28, 28, 512)       1180160   \n",
            "                                                                 \n",
            " block4_conv2 (Conv2D)       (None, 28, 28, 512)       2359808   \n",
            "                                                                 \n",
            " block4_conv3 (Conv2D)       (None, 28, 28, 512)       2359808   \n",
            "                                                                 \n",
            " block4_pool (MaxPooling2D)  (None, 14, 14, 512)       0         \n",
            "                                                                 \n",
            " block5_conv1 (Conv2D)       (None, 14, 14, 512)       2359808   \n",
            "                                                                 \n",
            " block5_conv2 (Conv2D)       (None, 14, 14, 512)       2359808   \n",
            "                                                                 \n",
            " block5_conv3 (Conv2D)       (None, 14, 14, 512)       2359808   \n",
            "                                                                 \n",
            " block5_pool (MaxPooling2D)  (None, 7, 7, 512)         0         \n",
            "                                                                 \n",
            "=================================================================\n",
            "Total params: 14,714,688\n",
            "Trainable params: 0\n",
            "Non-trainable params: 14,714,688\n",
            "_________________________________________________________________\n"
          ]
        }
      ]
    },
    {
      "cell_type": "code",
      "metadata": {
        "id": "dk12H6aBamaz"
      },
      "source": [
        "#folders = glob('/content/images')"
      ],
      "execution_count": null,
      "outputs": []
    },
    {
      "cell_type": "code",
      "metadata": {
        "id": "ZdhJGFvSZXmu"
      },
      "source": [
        "z = vgg.output"
      ],
      "execution_count": null,
      "outputs": []
    },
    {
      "cell_type": "markdown",
      "metadata": {
        "id": "DKwaUNdrhjDk"
      },
      "source": [
        "Flattened the parametrs to feed into neural network && added Dense layers"
      ]
    },
    {
      "cell_type": "code",
      "metadata": {
        "id": "76ZieQIka3Z4"
      },
      "source": [
        "z = Flatten()(z)\n",
        "z = Dense(512,activation='relu')(z)\n",
        "z = Dense(256,activation='relu')(z)\n",
        "z = Dense(128,activation='relu')(z)\n",
        "#z = Dense(28,activation='relu')(z)\n",
        "prediction = Dense(3,activation = 'softmax')(z)"
      ],
      "execution_count": null,
      "outputs": []
    },
    {
      "cell_type": "code",
      "metadata": {
        "id": "zN88yWiSb-LQ"
      },
      "source": [
        "model = Model(inputs= vgg.input,outputs = prediction)"
      ],
      "execution_count": null,
      "outputs": []
    },
    {
      "cell_type": "code",
      "metadata": {
        "id": "EUrSLj6v-nlW",
        "colab": {
          "base_uri": "https://localhost:8080/",
          "height": 34
        },
        "outputId": "6dc91336-8ae5-4a94-ff44-a93312f65c53"
      },
      "source": [
        "plt.figure(figsize=(5,2))\n",
        "tf.keras.utils.plot_model(model)\n",
        "plt.savefig('model.jpg')"
      ],
      "execution_count": null,
      "outputs": [
        {
          "output_type": "display_data",
          "data": {
            "text/plain": [
              "<Figure size 360x144 with 0 Axes>"
            ]
          },
          "metadata": {}
        }
      ]
    },
    {
      "cell_type": "code",
      "metadata": {
        "id": "x3yZx25ncwdw",
        "colab": {
          "base_uri": "https://localhost:8080/"
        },
        "outputId": "01501101-4d04-4359-9ef7-5a89aa84a3be"
      },
      "source": [
        "model.summary()"
      ],
      "execution_count": null,
      "outputs": [
        {
          "output_type": "stream",
          "name": "stdout",
          "text": [
            "Model: \"model_1\"\n",
            "_________________________________________________________________\n",
            " Layer (type)                Output Shape              Param #   \n",
            "=================================================================\n",
            " input_2 (InputLayer)        [(None, 224, 224, 3)]     0         \n",
            "                                                                 \n",
            " block1_conv1 (Conv2D)       (None, 224, 224, 64)      1792      \n",
            "                                                                 \n",
            " block1_conv2 (Conv2D)       (None, 224, 224, 64)      36928     \n",
            "                                                                 \n",
            " block1_pool (MaxPooling2D)  (None, 112, 112, 64)      0         \n",
            "                                                                 \n",
            " block2_conv1 (Conv2D)       (None, 112, 112, 128)     73856     \n",
            "                                                                 \n",
            " block2_conv2 (Conv2D)       (None, 112, 112, 128)     147584    \n",
            "                                                                 \n",
            " block2_pool (MaxPooling2D)  (None, 56, 56, 128)       0         \n",
            "                                                                 \n",
            " block3_conv1 (Conv2D)       (None, 56, 56, 256)       295168    \n",
            "                                                                 \n",
            " block3_conv2 (Conv2D)       (None, 56, 56, 256)       590080    \n",
            "                                                                 \n",
            " block3_conv3 (Conv2D)       (None, 56, 56, 256)       590080    \n",
            "                                                                 \n",
            " block3_pool (MaxPooling2D)  (None, 28, 28, 256)       0         \n",
            "                                                                 \n",
            " block4_conv1 (Conv2D)       (None, 28, 28, 512)       1180160   \n",
            "                                                                 \n",
            " block4_conv2 (Conv2D)       (None, 28, 28, 512)       2359808   \n",
            "                                                                 \n",
            " block4_conv3 (Conv2D)       (None, 28, 28, 512)       2359808   \n",
            "                                                                 \n",
            " block4_pool (MaxPooling2D)  (None, 14, 14, 512)       0         \n",
            "                                                                 \n",
            " block5_conv1 (Conv2D)       (None, 14, 14, 512)       2359808   \n",
            "                                                                 \n",
            " block5_conv2 (Conv2D)       (None, 14, 14, 512)       2359808   \n",
            "                                                                 \n",
            " block5_conv3 (Conv2D)       (None, 14, 14, 512)       2359808   \n",
            "                                                                 \n",
            " block5_pool (MaxPooling2D)  (None, 7, 7, 512)         0         \n",
            "                                                                 \n",
            " flatten_1 (Flatten)         (None, 25088)             0         \n",
            "                                                                 \n",
            " dense_4 (Dense)             (None, 512)               12845568  \n",
            "                                                                 \n",
            " dense_5 (Dense)             (None, 256)               131328    \n",
            "                                                                 \n",
            " dense_6 (Dense)             (None, 128)               32896     \n",
            "                                                                 \n",
            " dense_7 (Dense)             (None, 3)                 387       \n",
            "                                                                 \n",
            "=================================================================\n",
            "Total params: 27,724,867\n",
            "Trainable params: 13,010,179\n",
            "Non-trainable params: 14,714,688\n",
            "_________________________________________________________________\n"
          ]
        }
      ]
    },
    {
      "cell_type": "markdown",
      "metadata": {
        "id": "IwEv-z4gh2JQ"
      },
      "source": [
        "Model Compilation"
      ]
    },
    {
      "cell_type": "code",
      "metadata": {
        "id": "aVUGEqI02bn-"
      },
      "source": [
        "from keras import metrics"
      ],
      "execution_count": null,
      "outputs": []
    },
    {
      "cell_type": "code",
      "metadata": {
        "id": "YV01KsztdFFX"
      },
      "source": [
        "model.compile(loss = 'sparse_categorical_crossentropy',optimizer = 'adam',metrics =['accuracy'])"
      ],
      "execution_count": null,
      "outputs": []
    },
    {
      "cell_type": "markdown",
      "metadata": {
        "id": "lRuJshH9h5tI"
      },
      "source": [
        "Data Augmentation"
      ]
    },
    {
      "cell_type": "code",
      "metadata": {
        "id": "gTt1uv7rdb-p"
      },
      "source": [
        "from keras.preprocessing.image import ImageDataGenerator"
      ],
      "execution_count": null,
      "outputs": []
    },
    {
      "cell_type": "code",
      "metadata": {
        "id": "ZNKSGGNAdnLs"
      },
      "source": [
        "train_datagen = ImageDataGenerator(rescale = 1./255,shear_range = 0.2,zoom_range = 0.2,horizontal_flip = True)"
      ],
      "execution_count": null,
      "outputs": []
    },
    {
      "cell_type": "code",
      "metadata": {
        "id": "GDTlwRkeNIm2"
      },
      "source": [
        "#train_datagen = np.expand_dims(train_datagen, axis=0)"
      ],
      "execution_count": null,
      "outputs": []
    },
    {
      "cell_type": "code",
      "metadata": {
        "id": "6gQkzGItesHt"
      },
      "source": [
        "test_datagen = ImageDataGenerator(rescale = 1./255)"
      ],
      "execution_count": null,
      "outputs": []
    },
    {
      "cell_type": "code",
      "metadata": {
        "id": "aOcoARXYNPVc"
      },
      "source": [
        "#test_datagen = np.expand_dims(test_datagen, axis=0)"
      ],
      "execution_count": null,
      "outputs": []
    },
    {
      "cell_type": "code",
      "metadata": {
        "id": "YuVy2Eebe2I4",
        "colab": {
          "base_uri": "https://localhost:8080/"
        },
        "outputId": "1dc10586-3187-4459-d0ca-636e5ac803ee"
      },
      "source": [
        "training_set = train_datagen.flow_from_directory('/content/images',target_size = (224,224),batch_size =32,class_mode = 'sparse')"
      ],
      "execution_count": null,
      "outputs": [
        {
          "output_type": "stream",
          "name": "stdout",
          "text": [
            "Found 290 images belonging to 3 classes.\n"
          ]
        }
      ]
    },
    {
      "cell_type": "code",
      "metadata": {
        "id": "d5fsBSoafPBG",
        "colab": {
          "base_uri": "https://localhost:8080/"
        },
        "outputId": "ac3b16e0-2898-402a-c690-0394db4a52c6"
      },
      "source": [
        "test_set = test_datagen.flow_from_directory('/content/images',target_size = (224,224),batch_size = 32,class_mode = 'sparse')"
      ],
      "execution_count": null,
      "outputs": [
        {
          "output_type": "stream",
          "name": "stdout",
          "text": [
            "Found 290 images belonging to 3 classes.\n"
          ]
        }
      ]
    },
    {
      "cell_type": "code",
      "metadata": {
        "id": "dLmBFmR7chFh",
        "colab": {
          "base_uri": "https://localhost:8080/",
          "height": 558
        },
        "outputId": "5c1a1165-b830-412e-ca0c-caa1c0a9a633"
      },
      "source": [
        "a = training_set.class_indices\n",
        "class_names = list(a.keys()) # storing class/breed names in a list\n",
        "#CATEGORIES = [\"black holes\",\"pulsar stars\",\"white dwarf star\"]\n",
        "#labels = []\n",
        "#categories = CATEGORIES.index(x)\n",
        "#print(categories)\n",
        "x,y = next(training_set)\n",
        "def plot_images(img,labels):\n",
        "\n",
        "  plt.figure(figsize=[8,10])\n",
        "  for i in range(25):\n",
        "      plt.subplot(5,5,i+1)\n",
        "      plt.imshow(img[i])\n",
        "      #plt.title(class_names(i))\n",
        "      plt.axis('off')\n",
        "          \n",
        "plot_images(x,y)"
      ],
      "execution_count": null,
      "outputs": [
        {
          "output_type": "display_data",
          "data": {
            "image/png": "[encoded data removed]",
            "text/plain": [
              "<Figure size 576x720 with 25 Axes>"
            ]
          },
          "metadata": {
            "needs_background": "light"
          }
        }
      ]
    },
    {
      "cell_type": "markdown",
      "metadata": {
        "id": "kasA4XZ3mmg6"
      },
      "source": [
        "Backpropagation For model learning using epochs and Fit for our training data"
      ]
    },
    {
      "cell_type": "code",
      "metadata": {
        "id": "vnHdJKkenqsC"
      },
      "source": [
        "class mycallback(tf.keras.callbacks.Callback):\n",
        "  def on_epoch_ending(self,epoch,logs={}):\n",
        "    if(logs.get('accuracy')>0.95):\n",
        "      print(\"Reached 95% accuracy,so Stop the training\")\n",
        "      self.Model.stop_training=True\n",
        "\n",
        "#Instantiate callback\n",
        "callback = mycallback()"
      ],
      "execution_count": null,
      "outputs": []
    },
    {
      "cell_type": "code",
      "metadata": {
        "id": "4u1wtHnDfshm",
        "colab": {
          "base_uri": "https://localhost:8080/"
        },
        "outputId": "93b0e2a3-6b3d-4536-9402-f3fa8eb1787d"
      },
      "source": [
        "r= model.fit(training_set,validation_data = test_set,epochs = 10,steps_per_epoch =len(training_set),validation_steps = len(test_set),callbacks = [callback])"
      ],
      "execution_count": null,
      "outputs": [
        {
          "output_type": "stream",
          "name": "stdout",
          "text": [
            "Epoch 1/10\n",
            "10/10 [==============================] - 24s 2s/step - loss: 1.6608 - accuracy: 0.3552 - val_loss: 0.9852 - val_accuracy: 0.5690\n",
            "Epoch 2/10\n",
            "10/10 [==============================] - 22s 2s/step - loss: 1.1296 - accuracy: 0.5034 - val_loss: 0.8653 - val_accuracy: 0.5828\n",
            "Epoch 3/10\n",
            "10/10 [==============================] - 22s 2s/step - loss: 1.0087 - accuracy: 0.5379 - val_loss: 0.7311 - val_accuracy: 0.6241\n",
            "Epoch 4/10\n",
            "10/10 [==============================] - 22s 2s/step - loss: 0.6910 - accuracy: 0.7000 - val_loss: 0.5501 - val_accuracy: 0.7966\n",
            "Epoch 5/10\n",
            "10/10 [==============================] - 22s 2s/step - loss: 0.8223 - accuracy: 0.6483 - val_loss: 0.6299 - val_accuracy: 0.6897\n",
            "Epoch 6/10\n",
            "10/10 [==============================] - 22s 2s/step - loss: 0.6731 - accuracy: 0.7034 - val_loss: 0.4895 - val_accuracy: 0.8241\n",
            "Epoch 7/10\n",
            "10/10 [==============================] - 22s 2s/step - loss: 0.5690 - accuracy: 0.7517 - val_loss: 0.4064 - val_accuracy: 0.8621\n",
            "Epoch 8/10\n",
            "10/10 [==============================] - 22s 2s/step - loss: 0.4449 - accuracy: 0.8276 - val_loss: 0.3726 - val_accuracy: 0.8517\n",
            "Epoch 9/10\n",
            "10/10 [==============================] - 23s 2s/step - loss: 0.3894 - accuracy: 0.8276 - val_loss: 0.3593 - val_accuracy: 0.8414\n",
            "Epoch 10/10\n",
            "10/10 [==============================] - 22s 2s/step - loss: 0.3918 - accuracy: 0.8448 - val_loss: 0.4917 - val_accuracy: 0.7897\n"
          ]
        }
      ]
    },
    {
      "cell_type": "code",
      "metadata": {
        "id": "g9-1oBQdOx7F"
      },
      "source": [
        "#test_set = np.expand_dims(test_set, axis=0)"
      ],
      "execution_count": null,
      "outputs": []
    },
    {
      "cell_type": "code",
      "metadata": {
        "id": "ODtzMaBfIWom"
      },
      "source": [
        "'''\n",
        "import matplotlib.pyplot as plt\n",
        "f, axarr = plt.subplots(3,4)\n",
        "FIRST_IMAGE=0\n",
        "SECOND_IMAGE=15\n",
        "THIRD_IMAGE=29\n",
        "CONVOLUTION_NUMBER = 1\n",
        "from tensorflow.keras import models\n",
        "\n",
        "layer_outputs = [layer.output for layer in model.layers]\n",
        "active_model = tf.keras.models.Model(inputs = model.input,outputs = model.output)\n",
        "for i in range(0,4):\n",
        "  f1 = active_model.predict(test_set[FIRST_IMAGE])[i]\n",
        "  axarr[0,x].imshow(f1[0, : , :, CONVOLUTION_NUMBER], cmap='inferno')\n",
        "  axarr[0,x].grid(False)\n",
        "'''"
      ],
      "execution_count": null,
      "outputs": []
    },
    {
      "cell_type": "code",
      "metadata": {
        "id": "zrP0-sOjg_Zd"
      },
      "source": [
        "r.history['loss']"
      ],
      "execution_count": null,
      "outputs": []
    },
    {
      "cell_type": "code",
      "metadata": {
        "id": "gZbKDfBhHMdG"
      },
      "source": [
        ""
      ],
      "execution_count": null,
      "outputs": []
    },
    {
      "cell_type": "code",
      "metadata": {
        "id": "rA7sMoJ0jPsM"
      },
      "source": [
        "plt.plot(r.history['loss'],label='train loss')\n",
        "plt.plot(r.history['val_loss'],label='val_loss')\n",
        "plt.legend()\n",
        "plt.show()"
      ],
      "execution_count": null,
      "outputs": []
    },
    {
      "cell_type": "code",
      "metadata": {
        "id": "p7VrgyYTjbNC"
      },
      "source": [
        "from keras.models import load_model"
      ],
      "execution_count": null,
      "outputs": []
    },
    {
      "cell_type": "markdown",
      "metadata": {
        "id": "iXpJkR5qiaBp"
      },
      "source": [
        "Saved and load the model"
      ]
    },
    {
      "cell_type": "code",
      "metadata": {
        "id": "ubehSmVlRLCR"
      },
      "source": [
        "model.save('trmodel.h5')"
      ],
      "execution_count": null,
      "outputs": []
    },
    {
      "cell_type": "code",
      "metadata": {
        "id": "trHj5KRuSN5u"
      },
      "source": [
        "mymodel = load_model('trmodel.h5')"
      ],
      "execution_count": null,
      "outputs": []
    },
    {
      "cell_type": "markdown",
      "metadata": {
        "id": "Elk_HCFeidZv"
      },
      "source": [
        "To check Model Working"
      ]
    },
    {
      "cell_type": "code",
      "metadata": {
        "id": "u0NwVvenedPJ"
      },
      "source": [
        "url = input('enter the url')\n",
        "img =image.load_img(url, target_size=(224, 224,3))\n",
        "x = image.img_to_array(img)\n",
        "print(np.min(x), np.max(x))\n",
        "print(x.shape)\n",
        "xs = np.expand_dims(x, axis=0)\n",
        "print(xs.shape)\n",
        "xs = preprocess_input(xs)\n",
        "features = mymodel.predict(xs)\n",
        "print(features)\n",
        "plt.imshow(img)"
      ],
      "execution_count": null,
      "outputs": []
    },
    {
      "cell_type": "markdown",
      "metadata": {
        "id": "vSb4tJOVdnmb"
      },
      "source": [
        ""
      ]
    },
    {
      "cell_type": "markdown",
      "metadata": {
        "id": "WGwVGfWoiolG"
      },
      "source": [
        "## <font color ='Purple'> Here Model Building using SVC"
      ]
    },
    {
      "cell_type": "code",
      "metadata": {
        "id": "lFLw610GjluZ"
      },
      "source": [
        "from sklearn.model_selection import GridSearchCV\n",
        "from sklearn import svm"
      ],
      "execution_count": null,
      "outputs": []
    },
    {
      "cell_type": "code",
      "metadata": {
        "id": "5biqPlkLlIY9",
        "colab": {
          "base_uri": "https://localhost:8080/"
        },
        "outputId": "a11c1b0e-f2c8-480a-bdea-a1c5234187fa"
      },
      "source": [
        "param_grid = [\n",
        "              {'C' :[1,10,100,1000],'kernel':['poly']},\n",
        "              {'C':[1,10,100,1000],'gamma':[0.001,0.0001],'kernel':['rbf','sigmoid']},\n",
        "]\n",
        "svc = svm.SVC(decision_function_shape='ovr',random_state=1)\n",
        "clf = GridSearchCV(svc,param_grid)\n",
        "#x_train = [np.concatenate(i) for i in x_train]\n",
        "clf.fit(x_train,y_train)"
      ],
      "execution_count": null,
      "outputs": [
        {
          "output_type": "execute_result",
          "data": {
            "text/plain": [
              "GridSearchCV(cv=None, error_score=nan,\n",
              "             estimator=SVC(C=1.0, break_ties=False, cache_size=200,\n",
              "                           class_weight=None, coef0=0.0,\n",
              "                           decision_function_shape='ovr', degree=3,\n",
              "                           gamma='scale', kernel='rbf', max_iter=-1,\n",
              "                           probability=False, random_state=1, shrinking=True,\n",
              "                           tol=0.001, verbose=False),\n",
              "             iid='deprecated', n_jobs=None,\n",
              "             param_grid=[{'C': [1, 10, 100, 1000], 'kernel': ['poly']},\n",
              "                         {'C': [1, 10, 100, 1000], 'gamma': [0.001, 0.0001],\n",
              "                          'kernel': ['rbf', 'sigmoid']}],\n",
              "             pre_dispatch='2*n_jobs', refit=True, return_train_score=False,\n",
              "             scoring=None, verbose=0)"
            ]
          },
          "metadata": {},
          "execution_count": 13
        }
      ]
    },
    {
      "cell_type": "code",
      "metadata": {
        "id": "drvswn0WuSWH",
        "colab": {
          "base_uri": "https://localhost:8080/"
        },
        "outputId": "7b8fa6ce-3651-4e08-c312-8d9ab6f29b18"
      },
      "source": [
        "y_pred = clf.predict(x_test)\n",
        "y_pred"
      ],
      "execution_count": null,
      "outputs": [
        {
          "output_type": "execute_result",
          "data": {
            "text/plain": [
              "array([0, 1, 2, 1, 1, 1, 0, 0, 1, 2, 0, 2, 2, 0, 0, 0, 0, 2, 2, 0, 0, 2,\n",
              "       1, 0, 2, 0, 2, 2, 2, 1, 1, 0, 0, 0, 0, 0, 0, 0, 1, 0, 1, 0, 0, 1,\n",
              "       0, 2, 0, 1, 0, 2, 2, 2, 2, 2, 0, 1, 0, 0, 2, 1, 0, 1, 1, 0, 1, 0,\n",
              "       0, 0, 2, 2, 2, 1, 1, 1, 1, 1, 0, 0, 1, 0, 1, 1, 2, 2, 2, 2, 0, 0,\n",
              "       0, 1])"
            ]
          },
          "metadata": {},
          "execution_count": 14
        }
      ]
    },
    {
      "cell_type": "code",
      "metadata": {
        "id": "lqkxAH8dEoZE"
      },
      "source": [
        "from sklearn.metrics import accuracy_score,confusion_matrix,classification_report"
      ],
      "execution_count": null,
      "outputs": []
    },
    {
      "cell_type": "code",
      "metadata": {
        "id": "Yvs3tqNxFDfO",
        "colab": {
          "base_uri": "https://localhost:8080/"
        },
        "outputId": "b11d5ab6-229e-4a01-bbd3-b155d3231b28"
      },
      "source": [
        "accuracy_score(y_pred,y_test)"
      ],
      "execution_count": null,
      "outputs": [
        {
          "output_type": "execute_result",
          "data": {
            "text/plain": [
              "0.5111111111111111"
            ]
          },
          "metadata": {},
          "execution_count": 16
        }
      ]
    },
    {
      "cell_type": "code",
      "metadata": {
        "id": "PXk9BrWkFNV1",
        "colab": {
          "base_uri": "https://localhost:8080/"
        },
        "outputId": "388ac33e-1ad0-4db9-a396-64fb92df828b"
      },
      "source": [
        "confusion_matrix(y_pred,y_test)"
      ],
      "execution_count": null,
      "outputs": [
        {
          "output_type": "execute_result",
          "data": {
            "text/plain": [
              "array([[18, 10, 11],\n",
              "       [ 6, 15,  5],\n",
              "       [ 4,  8, 13]])"
            ]
          },
          "metadata": {},
          "execution_count": 17
        }
      ]
    },
    {
      "cell_type": "code",
      "metadata": {
        "id": "-RwEEal0MA_Z",
        "colab": {
          "base_uri": "https://localhost:8080/"
        },
        "outputId": "7da04f00-1336-42e0-9bf4-fe641f79f7f0"
      },
      "source": [
        "print(classification_report(y_pred,y_test))"
      ],
      "execution_count": null,
      "outputs": [
        {
          "output_type": "stream",
          "name": "stdout",
          "text": [
            "              precision    recall  f1-score   support\n",
            "\n",
            "           0       0.64      0.46      0.54        39\n",
            "           1       0.45      0.58      0.51        26\n",
            "           2       0.45      0.52      0.48        25\n",
            "\n",
            "    accuracy                           0.51        90\n",
            "   macro avg       0.52      0.52      0.51        90\n",
            "weighted avg       0.53      0.51      0.51        90\n",
            "\n"
          ]
        }
      ]
    },
    {
      "cell_type": "markdown",
      "metadata": {
        "id": "vQSmPc12i5Yj"
      },
      "source": [
        "SVC has given--->50% accuracy\n",
        "\n",
        "CNN has given--->93% accuracy"
      ]
    },
    {
      "cell_type": "code",
      "metadata": {
        "id": "8Dh3EUJ2H6P3"
      },
      "source": [
        "import pickle"
      ],
      "execution_count": null,
      "outputs": []
    },
    {
      "cell_type": "code",
      "metadata": {
        "id": "0s0ZDt4BMLLW"
      },
      "source": [
        "pickle.dump(clf,open('img_model.p','wb'))"
      ],
      "execution_count": null,
      "outputs": []
    },
    {
      "cell_type": "code",
      "metadata": {
        "id": "926uYAeNNEXu"
      },
      "source": [
        "model = pickle.load(open('img_model.p','rb'))"
      ],
      "execution_count": null,
      "outputs": []
    },
    {
      "cell_type": "markdown",
      "metadata": {
        "id": "c6isGo75lOKd"
      },
      "source": [
        "Model Working For SVC"
      ]
    },
    {
      "cell_type": "code",
      "metadata": {
        "id": "9Mdw_hWkiiIR"
      },
      "source": [
        "import matplotlib.pyplot as plt"
      ],
      "execution_count": null,
      "outputs": []
    },
    {
      "cell_type": "code",
      "metadata": {
        "id": "RLNssUNKNk-G"
      },
      "source": [
        "flat_data = []\n",
        "url = input('enter the url')\n",
        "img = imread(url)\n",
        "img_resized = resize(img,(150,150,3))\n",
        "flat_data.append(img_resized.flatten())\n",
        "flat_data = np.array(flat_data)\n",
        "print(img.shape)\n",
        "plt.imshow(img_resized)\n",
        "y_out = model.predict(flat_data)\n",
        "y_out = CATEGORIES[y_out[0]]\n",
        "print(f'PREDICTED OUTPUT:{y_out}')"
      ],
      "execution_count": null,
      "outputs": []
    },
    {
      "cell_type": "code",
      "metadata": {
        "id": "1zGJzTTQQ2Sg"
      },
      "source": [
        ""
      ],
      "execution_count": null,
      "outputs": []
    },
    {
      "cell_type": "code",
      "metadata": {
        "id": "58sup2lWTZSG"
      },
      "source": [
        ""
      ],
      "execution_count": null,
      "outputs": []
    },
    {
      "cell_type": "code",
      "metadata": {
        "id": "9RVsfmTLzhqr"
      },
      "source": [
        "#!ngrok authtoken 1lK3c47A9GAl1H6Zbs7BhYioq7h_5GgMFeSZjrF11J4YKDcC4"
      ],
      "execution_count": null,
      "outputs": []
    },
    {
      "cell_type": "code",
      "metadata": {
        "id": "L2nqClPjk4Ju"
      },
      "source": [
        "#!curl -LkO https://raw.githubusercontent.com/remoteit/installer/master/scripts/auto-install.sh\n",
        "#! chmod +x ./auto-install.sh\n",
        "#! sudo ./auto-install.sh"
      ],
      "execution_count": null,
      "outputs": []
    },
    {
      "cell_type": "code",
      "metadata": {
        "id": "uzQwrQ_ek4G9"
      },
      "source": [
        "#! sudo connectd_installer"
      ],
      "execution_count": null,
      "outputs": []
    },
    {
      "cell_type": "code",
      "metadata": {
        "id": "45DKj9IITe1-"
      },
      "source": [
        "#from pyngrok import ngrok"
      ],
      "execution_count": null,
      "outputs": []
    },
    {
      "cell_type": "code",
      "metadata": {
        "id": "RugAHlVBTqky"
      },
      "source": [
        "%%writefile my_app.py\n",
        "import streamlit as st\n",
        "import numpy as np\n",
        "from skimage.io import imread\n",
        "import matplotlib.pyplot as plt\n",
        "from skimage.transform import resize\n",
        "import pickle\n",
        "from PIL import Image\n",
        "\n",
        "rad = st.sidebar.radio(\"Navigation\",[\"About\",\"Model\"])\n",
        "\n",
        "if rad == \"About\":\n",
        "  st.header(\"The APP is actually made for recognition of space objects\")\n",
        "  if st.checkbox(\"Description..\"):\n",
        "    st.write(\"The app mainly classifies black holes, pulsar stars and white dwarf\")\n",
        "    st.write(\"Because, They formed after the death of any neutron or super red giant star having higher chandra shekhara limit\")\n",
        "    option = ('Black Hole','Pulsar star','White Dwarf')\n",
        "    option_dis = list(range(len(option)))\n",
        "    x = st.selectbox(\"Choose object\",option_dis,format_func=lambda x: option[x])\n",
        "    if x == 0:\n",
        "      st.text(\"\"\"A black hole is a place in space where gravity pulls so much that even light can not get out. \n",
        "                  The gravity is so strong because matter has been squeezed into a tiny space. \n",
        "                  This can happen when a star is dying.\n",
        "                  Because no light can get out, people can't see black holes. \n",
        "                  They are invisible. Space telescopes with special tools can help find black holes. \n",
        "                  The special tools can see how stars that are very close to black holes act differently than other stars. \n",
        "                  For More Info: Visit\"\"\")\n",
        "      st.markdown('https://www.nasa.gov/audience/forstudents/k-4/stories/nasa-knows/what-is-a-black-hole-k4.html')\n",
        "    if x == 1:\n",
        "      st.text(\"\"\"Pulsars are spherical, compact objects that are about the size of a large city but contain more mass than the sun. \n",
        "            Scientists are using pulsars to study extreme states of matter, search for planets beyond Earth's solar system and \n",
        "            measure cosmic distances. \n",
        "            Pulsars also could help scientists find gravitational waves, \n",
        "            which could point the way to energetic cosmic events like collisions between \n",
        "            supermassive black holes.\n",
        "            for more info about black hole collision refer LIGO observatory\n",
        "            \"\"\")\n",
        "      st.markdown('https://www.space.com/32661-pulsars.html')\n",
        "    if x == 2:\n",
        "      st.text(\"\"\"Pushing the limits of its powerful vision, NASA's Hubble Space Telescope uncovered the oldest burned-out stars \n",
        "      in our Milky Way Galaxy. \n",
        "      These extremely old, dim \"clockwork stars\" provide a completely independent reading on the age of the universe.\n",
        "\n",
        "      The ancient white dwarf stars, as seen by Hubble, are 12-13 billion years old. \n",
        "      Because earlier Hubble observations show that the first stars formed less than 1 billion years after the universe's \n",
        "      birth in the big bang,\n",
        "      finding the oldest stars puts astronomers well within arm's reach of calculating the absolute age of the universe.\"\"\")\n",
        "      st.markdown('https://www.nasa.gov/multimedia/imagegallery/image_feature_734.html')\n",
        "      \n",
        "\n",
        "model = pickle.load(open('img_model.p','rb'))\n",
        "\n",
        "\n",
        "if rad == \"Model\":\n",
        "  st.title('IMAGE CLASSIFIER:star:')\n",
        "  st.text('Upload images here:')\n",
        "  uploaded_file = st.file_uploader(\"Choose an image....\",type = \"jpg\")\n",
        "  if uploaded_file is not None:\n",
        "    img = Image.open(uploaded_file)\n",
        "    st.image(img,caption  = 'Uploaded_image')\n",
        "\n",
        "    if st.button('PREDICT'):\n",
        "      CATEGORIES = [\"pulsar stars\",\"black holes\"]\n",
        "      st.write('RESULT.....')\n",
        "      flat_data = []\n",
        "      img = np.array(img)\n",
        "      img_resized = resize(img,(160,160,3))\n",
        "      flat_data.append(img_resized.flatten())\n",
        "      flat_data = np.array(flat_data)\n",
        "      print(img.shape)\n",
        "      plt.imshow(img_resized)\n",
        "      y_out = model.predict(flat_data)\n",
        "      y_out = CATEGORIES[y_out[0]]\n",
        "      st.title(f'PREDICTED OUTPUT:{y_out}')\n"
      ],
      "execution_count": null,
      "outputs": []
    },
    {
      "cell_type": "code",
      "metadata": {
        "id": "1l1_v5Qp3iW6"
      },
      "source": [
        "#!streamlit config show\n"
      ],
      "execution_count": null,
      "outputs": []
    },
    {
      "cell_type": "code",
      "metadata": {
        "id": "qxZdUsyUcYwn"
      },
      "source": [
        "#!streamlit run --server.port 80 my_app.py --&>/dev/null&"
      ],
      "execution_count": null,
      "outputs": []
    }
  ]
}